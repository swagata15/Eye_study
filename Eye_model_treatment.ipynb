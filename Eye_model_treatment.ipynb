{
 "cells": [
  {
   "cell_type": "code",
   "execution_count": 250,
   "metadata": {},
   "outputs": [],
   "source": [
    "import pandas as pd\n",
    "#import numpy as np\n",
    "import matplotlib.pyplot as plt\n",
    "import seaborn as sn\n",
    "import random\n",
    "import time\n",
    "import numpy as np\n",
    "\n",
    "random.seed(100)"
   ]
  },
  {
   "cell_type": "code",
   "execution_count": 251,
   "metadata": {},
   "outputs": [],
   "source": [
    "### Data Preprocessing ###\n",
    "\n",
    "dataset = pd.read_csv('/Users/swagataashwani/Desktop/MachineLearningTemplate/Eye_Surgery_Case_study/new_eye.csv')\n"
   ]
  },
  {
   "cell_type": "code",
   "execution_count": 252,
   "metadata": {},
   "outputs": [],
   "source": [
    "dataset.head()\n",
    "dataset.isna().any()\n",
    "dataset['patient_sex'] = dataset['patient_sex'].astype(int)"
   ]
  },
  {
   "cell_type": "code",
   "execution_count": 253,
   "metadata": {},
   "outputs": [],
   "source": [
    "# One Hot Encoding\n",
    "dataset = pd.get_dummies(dataset)\n",
    "dataset.columns\n",
    "\n",
    "---- how to encode surgeon_id -----????? \n",
    "\n",
    "#dataset = pd.get_dummies(dataset['surgeon_id'], sparse=True, drop_first=True)\n",
    "# Removing extra columns\n",
    "response = dataset[\"treatment\"]\n",
    "dataset = dataset.drop(columns = [\"treatment\",\"surgeon_id\"])"
   ]
  },
  {
   "cell_type": "code",
   "execution_count": 254,
   "metadata": {},
   "outputs": [
    {
     "data": {
      "text/html": [
       "<div>\n",
       "<style scoped>\n",
       "    .dataframe tbody tr th:only-of-type {\n",
       "        vertical-align: middle;\n",
       "    }\n",
       "\n",
       "    .dataframe tbody tr th {\n",
       "        vertical-align: top;\n",
       "    }\n",
       "\n",
       "    .dataframe thead th {\n",
       "        text-align: right;\n",
       "    }\n",
       "</style>\n",
       "<table border=\"1\" class=\"dataframe\">\n",
       "  <thead>\n",
       "    <tr style=\"text-align: right;\">\n",
       "      <th></th>\n",
       "      <th>patient_sex</th>\n",
       "      <th>success</th>\n",
       "      <th>initial_severity</th>\n",
       "      <th>age</th>\n",
       "      <th>patient_insurance_A</th>\n",
       "      <th>patient_insurance_B</th>\n",
       "      <th>patient_insurance_C</th>\n",
       "      <th>patient_insurance_D</th>\n",
       "      <th>patient_insurance_E</th>\n",
       "      <th>patient_insurance_F</th>\n",
       "      <th>patient_insurance_G</th>\n",
       "      <th>patient_insurance_H</th>\n",
       "      <th>patient_insurance_I</th>\n",
       "      <th>patient_insurance_J</th>\n",
       "      <th>over_under_correction_0</th>\n",
       "      <th>over_under_correction_OVER</th>\n",
       "      <th>over_under_correction_UNDER</th>\n",
       "    </tr>\n",
       "  </thead>\n",
       "  <tbody>\n",
       "    <tr>\n",
       "      <th>0</th>\n",
       "      <td>1</td>\n",
       "      <td>1</td>\n",
       "      <td>1</td>\n",
       "      <td>50</td>\n",
       "      <td>0</td>\n",
       "      <td>0</td>\n",
       "      <td>0</td>\n",
       "      <td>1</td>\n",
       "      <td>0</td>\n",
       "      <td>0</td>\n",
       "      <td>0</td>\n",
       "      <td>0</td>\n",
       "      <td>0</td>\n",
       "      <td>0</td>\n",
       "      <td>1</td>\n",
       "      <td>0</td>\n",
       "      <td>0</td>\n",
       "    </tr>\n",
       "    <tr>\n",
       "      <th>1</th>\n",
       "      <td>1</td>\n",
       "      <td>1</td>\n",
       "      <td>1</td>\n",
       "      <td>21</td>\n",
       "      <td>0</td>\n",
       "      <td>0</td>\n",
       "      <td>0</td>\n",
       "      <td>0</td>\n",
       "      <td>0</td>\n",
       "      <td>0</td>\n",
       "      <td>0</td>\n",
       "      <td>0</td>\n",
       "      <td>1</td>\n",
       "      <td>0</td>\n",
       "      <td>1</td>\n",
       "      <td>0</td>\n",
       "      <td>0</td>\n",
       "    </tr>\n",
       "    <tr>\n",
       "      <th>2</th>\n",
       "      <td>1</td>\n",
       "      <td>1</td>\n",
       "      <td>1</td>\n",
       "      <td>45</td>\n",
       "      <td>1</td>\n",
       "      <td>0</td>\n",
       "      <td>0</td>\n",
       "      <td>0</td>\n",
       "      <td>0</td>\n",
       "      <td>0</td>\n",
       "      <td>0</td>\n",
       "      <td>0</td>\n",
       "      <td>0</td>\n",
       "      <td>0</td>\n",
       "      <td>1</td>\n",
       "      <td>0</td>\n",
       "      <td>0</td>\n",
       "    </tr>\n",
       "    <tr>\n",
       "      <th>3</th>\n",
       "      <td>1</td>\n",
       "      <td>1</td>\n",
       "      <td>1</td>\n",
       "      <td>37</td>\n",
       "      <td>0</td>\n",
       "      <td>0</td>\n",
       "      <td>0</td>\n",
       "      <td>1</td>\n",
       "      <td>0</td>\n",
       "      <td>0</td>\n",
       "      <td>0</td>\n",
       "      <td>0</td>\n",
       "      <td>0</td>\n",
       "      <td>0</td>\n",
       "      <td>1</td>\n",
       "      <td>0</td>\n",
       "      <td>0</td>\n",
       "    </tr>\n",
       "    <tr>\n",
       "      <th>4</th>\n",
       "      <td>1</td>\n",
       "      <td>1</td>\n",
       "      <td>0</td>\n",
       "      <td>49</td>\n",
       "      <td>0</td>\n",
       "      <td>1</td>\n",
       "      <td>0</td>\n",
       "      <td>0</td>\n",
       "      <td>0</td>\n",
       "      <td>0</td>\n",
       "      <td>0</td>\n",
       "      <td>0</td>\n",
       "      <td>0</td>\n",
       "      <td>0</td>\n",
       "      <td>1</td>\n",
       "      <td>0</td>\n",
       "      <td>0</td>\n",
       "    </tr>\n",
       "  </tbody>\n",
       "</table>\n",
       "</div>"
      ],
      "text/plain": [
       "   patient_sex  success  initial_severity  age  patient_insurance_A  \\\n",
       "0            1        1                 1   50                    0   \n",
       "1            1        1                 1   21                    0   \n",
       "2            1        1                 1   45                    1   \n",
       "3            1        1                 1   37                    0   \n",
       "4            1        1                 0   49                    0   \n",
       "\n",
       "   patient_insurance_B  patient_insurance_C  patient_insurance_D  \\\n",
       "0                    0                    0                    1   \n",
       "1                    0                    0                    0   \n",
       "2                    0                    0                    0   \n",
       "3                    0                    0                    1   \n",
       "4                    1                    0                    0   \n",
       "\n",
       "   patient_insurance_E  patient_insurance_F  patient_insurance_G  \\\n",
       "0                    0                    0                    0   \n",
       "1                    0                    0                    0   \n",
       "2                    0                    0                    0   \n",
       "3                    0                    0                    0   \n",
       "4                    0                    0                    0   \n",
       "\n",
       "   patient_insurance_H  patient_insurance_I  patient_insurance_J  \\\n",
       "0                    0                    0                    0   \n",
       "1                    0                    1                    0   \n",
       "2                    0                    0                    0   \n",
       "3                    0                    0                    0   \n",
       "4                    0                    0                    0   \n",
       "\n",
       "   over_under_correction_0  over_under_correction_OVER  \\\n",
       "0                        1                           0   \n",
       "1                        1                           0   \n",
       "2                        1                           0   \n",
       "3                        1                           0   \n",
       "4                        1                           0   \n",
       "\n",
       "   over_under_correction_UNDER  \n",
       "0                            0  \n",
       "1                            0  \n",
       "2                            0  \n",
       "3                            0  \n",
       "4                            0  "
      ]
     },
     "execution_count": 254,
     "metadata": {},
     "output_type": "execute_result"
    }
   ],
   "source": [
    "dataset.head()"
   ]
  },
  {
   "cell_type": "code",
   "execution_count": 255,
   "metadata": {},
   "outputs": [],
   "source": [
    "# Splitting into Train and Test Set\n",
    "from sklearn.model_selection import train_test_split\n",
    "X_train, X_test, y_train, y_test = train_test_split(dataset,\n",
    "                                                    response,\n",
    "                                                    test_size = 0.2,\n",
    "                                                    random_state = 0)\n"
   ]
  },
  {
   "cell_type": "code",
   "execution_count": 256,
   "metadata": {},
   "outputs": [],
   "source": [
    "# Feature Scaling\n",
    "from sklearn.preprocessing import StandardScaler\n",
    "sc_X = StandardScaler()\n",
    "X_train2 = pd.DataFrame(sc_X.fit_transform(X_train))\n",
    "X_test2 = pd.DataFrame(sc_X.transform(X_test))\n",
    "X_train2.columns = X_train.columns.values\n",
    "X_test2.columns = X_test.columns.values\n",
    "X_train2.index = X_train.index.values\n",
    "X_test2.index = X_test.index.values\n",
    "X_train = X_train2\n",
    "X_test = X_test2"
   ]
  },
  {
   "cell_type": "code",
   "execution_count": 292,
   "metadata": {},
   "outputs": [
    {
     "data": {
      "text/html": [
       "<div>\n",
       "<style scoped>\n",
       "    .dataframe tbody tr th:only-of-type {\n",
       "        vertical-align: middle;\n",
       "    }\n",
       "\n",
       "    .dataframe tbody tr th {\n",
       "        vertical-align: top;\n",
       "    }\n",
       "\n",
       "    .dataframe thead th {\n",
       "        text-align: right;\n",
       "    }\n",
       "</style>\n",
       "<table border=\"1\" class=\"dataframe\">\n",
       "  <thead>\n",
       "    <tr style=\"text-align: right;\">\n",
       "      <th></th>\n",
       "      <th>patient_sex</th>\n",
       "      <th>success</th>\n",
       "      <th>initial_severity</th>\n",
       "      <th>age</th>\n",
       "      <th>patient_insurance_A</th>\n",
       "      <th>patient_insurance_B</th>\n",
       "      <th>patient_insurance_C</th>\n",
       "      <th>patient_insurance_D</th>\n",
       "      <th>patient_insurance_E</th>\n",
       "      <th>patient_insurance_F</th>\n",
       "      <th>patient_insurance_G</th>\n",
       "      <th>patient_insurance_H</th>\n",
       "      <th>patient_insurance_I</th>\n",
       "      <th>patient_insurance_J</th>\n",
       "      <th>over_under_correction_0</th>\n",
       "      <th>over_under_correction_OVER</th>\n",
       "      <th>over_under_correction_UNDER</th>\n",
       "    </tr>\n",
       "  </thead>\n",
       "  <tbody>\n",
       "    <tr>\n",
       "      <th>436</th>\n",
       "      <td>0.819908</td>\n",
       "      <td>0.489807</td>\n",
       "      <td>0.985795</td>\n",
       "      <td>0.008449</td>\n",
       "      <td>-0.329612</td>\n",
       "      <td>-0.330278</td>\n",
       "      <td>-0.342791</td>\n",
       "      <td>-0.327608</td>\n",
       "      <td>-0.334921</td>\n",
       "      <td>-0.328276</td>\n",
       "      <td>-0.333598</td>\n",
       "      <td>-0.326938</td>\n",
       "      <td>2.873722</td>\n",
       "      <td>-0.330944</td>\n",
       "      <td>0.489807</td>\n",
       "      <td>-0.161416</td>\n",
       "      <td>-0.449515</td>\n",
       "    </tr>\n",
       "    <tr>\n",
       "      <th>951</th>\n",
       "      <td>0.819908</td>\n",
       "      <td>0.489807</td>\n",
       "      <td>-1.014410</td>\n",
       "      <td>0.611608</td>\n",
       "      <td>-0.329612</td>\n",
       "      <td>-0.330278</td>\n",
       "      <td>-0.342791</td>\n",
       "      <td>-0.327608</td>\n",
       "      <td>-0.334921</td>\n",
       "      <td>-0.328276</td>\n",
       "      <td>-0.333598</td>\n",
       "      <td>-0.326938</td>\n",
       "      <td>2.873722</td>\n",
       "      <td>-0.330944</td>\n",
       "      <td>0.489807</td>\n",
       "      <td>-0.161416</td>\n",
       "      <td>-0.449515</td>\n",
       "    </tr>\n",
       "    <tr>\n",
       "      <th>2288</th>\n",
       "      <td>0.819908</td>\n",
       "      <td>-2.041619</td>\n",
       "      <td>0.985795</td>\n",
       "      <td>0.410555</td>\n",
       "      <td>-0.329612</td>\n",
       "      <td>-0.330278</td>\n",
       "      <td>-0.342791</td>\n",
       "      <td>-0.327608</td>\n",
       "      <td>-0.334921</td>\n",
       "      <td>-0.328276</td>\n",
       "      <td>2.997618</td>\n",
       "      <td>-0.326938</td>\n",
       "      <td>-0.347981</td>\n",
       "      <td>-0.330944</td>\n",
       "      <td>-2.041619</td>\n",
       "      <td>-0.161416</td>\n",
       "      <td>2.224620</td>\n",
       "    </tr>\n",
       "    <tr>\n",
       "      <th>489</th>\n",
       "      <td>-1.219649</td>\n",
       "      <td>0.489807</td>\n",
       "      <td>0.985795</td>\n",
       "      <td>0.008449</td>\n",
       "      <td>-0.329612</td>\n",
       "      <td>-0.330278</td>\n",
       "      <td>-0.342791</td>\n",
       "      <td>3.052432</td>\n",
       "      <td>-0.334921</td>\n",
       "      <td>-0.328276</td>\n",
       "      <td>-0.333598</td>\n",
       "      <td>-0.326938</td>\n",
       "      <td>-0.347981</td>\n",
       "      <td>-0.330944</td>\n",
       "      <td>0.489807</td>\n",
       "      <td>-0.161416</td>\n",
       "      <td>-0.449515</td>\n",
       "    </tr>\n",
       "    <tr>\n",
       "      <th>775</th>\n",
       "      <td>-1.219649</td>\n",
       "      <td>0.489807</td>\n",
       "      <td>0.985795</td>\n",
       "      <td>0.310028</td>\n",
       "      <td>-0.329612</td>\n",
       "      <td>-0.330278</td>\n",
       "      <td>-0.342791</td>\n",
       "      <td>-0.327608</td>\n",
       "      <td>-0.334921</td>\n",
       "      <td>3.046213</td>\n",
       "      <td>-0.333598</td>\n",
       "      <td>-0.326938</td>\n",
       "      <td>-0.347981</td>\n",
       "      <td>-0.330944</td>\n",
       "      <td>0.489807</td>\n",
       "      <td>-0.161416</td>\n",
       "      <td>-0.449515</td>\n",
       "    </tr>\n",
       "  </tbody>\n",
       "</table>\n",
       "</div>"
      ],
      "text/plain": [
       "      patient_sex   success  initial_severity       age  patient_insurance_A  \\\n",
       "436      0.819908  0.489807          0.985795  0.008449            -0.329612   \n",
       "951      0.819908  0.489807         -1.014410  0.611608            -0.329612   \n",
       "2288     0.819908 -2.041619          0.985795  0.410555            -0.329612   \n",
       "489     -1.219649  0.489807          0.985795  0.008449            -0.329612   \n",
       "775     -1.219649  0.489807          0.985795  0.310028            -0.329612   \n",
       "\n",
       "      patient_insurance_B  patient_insurance_C  patient_insurance_D  \\\n",
       "436             -0.330278            -0.342791            -0.327608   \n",
       "951             -0.330278            -0.342791            -0.327608   \n",
       "2288            -0.330278            -0.342791            -0.327608   \n",
       "489             -0.330278            -0.342791             3.052432   \n",
       "775             -0.330278            -0.342791            -0.327608   \n",
       "\n",
       "      patient_insurance_E  patient_insurance_F  patient_insurance_G  \\\n",
       "436             -0.334921            -0.328276            -0.333598   \n",
       "951             -0.334921            -0.328276            -0.333598   \n",
       "2288            -0.334921            -0.328276             2.997618   \n",
       "489             -0.334921            -0.328276            -0.333598   \n",
       "775             -0.334921             3.046213            -0.333598   \n",
       "\n",
       "      patient_insurance_H  patient_insurance_I  patient_insurance_J  \\\n",
       "436             -0.326938             2.873722            -0.330944   \n",
       "951             -0.326938             2.873722            -0.330944   \n",
       "2288            -0.326938            -0.347981            -0.330944   \n",
       "489             -0.326938            -0.347981            -0.330944   \n",
       "775             -0.326938            -0.347981            -0.330944   \n",
       "\n",
       "      over_under_correction_0  over_under_correction_OVER  \\\n",
       "436                  0.489807                   -0.161416   \n",
       "951                  0.489807                   -0.161416   \n",
       "2288                -2.041619                   -0.161416   \n",
       "489                  0.489807                   -0.161416   \n",
       "775                  0.489807                   -0.161416   \n",
       "\n",
       "      over_under_correction_UNDER  \n",
       "436                     -0.449515  \n",
       "951                     -0.449515  \n",
       "2288                     2.224620  \n",
       "489                     -0.449515  \n",
       "775                     -0.449515  "
      ]
     },
     "execution_count": 292,
     "metadata": {},
     "output_type": "execute_result"
    }
   ],
   "source": [
    "X_test.head()"
   ]
  },
  {
   "cell_type": "code",
   "execution_count": 293,
   "metadata": {},
   "outputs": [
    {
     "name": "stdout",
     "output_type": "stream",
     "text": [
      "[ True False  True  True  True  True  True False False False False  True\n",
      "  True False  True  True False]\n",
      "[1 6 1 1 1 1 1 3 2 5 4 1 1 7 1 1 8]\n"
     ]
    }
   ],
   "source": [
    "#### Model Building ####\n",
    "import matplotlib.pyplot as plt\n",
    "from sklearn.svm import SVC\n",
    "from sklearn.model_selection import StratifiedKFold\n",
    "from sklearn.feature_selection import RFECV\n",
    "### Comparing Models\n",
    "\n"
   ]
  },
  {
   "cell_type": "code",
   "execution_count": 306,
   "metadata": {},
   "outputs": [
    {
     "name": "stdout",
     "output_type": "stream",
     "text": [
      "Optimal number of features : 17\n"
     ]
    },
    {
     "data": {
      "image/png": "[encoded data removed]",
      "text/plain": [
       "<matplotlib.figure.Figure at 0x1049f5c10>"
      ]
     },
     "metadata": {},
     "output_type": "display_data"
    }
   ],
   "source": [
    "## Logistic Regression\n",
    "from sklearn.linear_model import LogisticRegression\n",
    "classifier1 = LogisticRegression(random_state = 0, penalty = 'l1')\n",
    "classifier1.fit(X_train, y_train)\n",
    "\n",
    "# Create the RFE object and compute a cross-validated score.\n",
    "# The \"accuracy\" scoring is proportional to the number of correct\n",
    "# classifications\n",
    "rfecv = RFECV(estimator=classifier1, step=1, cv=StratifiedKFold(2),\n",
    "              scoring='accuracy')\n",
    "rfecv.fit(X_train, y_train)\n",
    "\n",
    "print(\"Optimal number of features : %d\" % rfecv.n_features_)\n",
    "\n",
    "# Plot number of features VS. cross-validation scores\n",
    "plt.figure()\n",
    "plt.xlabel(\"Number of features selected\")\n",
    "plt.ylabel(\"Cross validation score (nb of correct classifications)\")\n",
    "plt.plot(range(1, len(rfecv.grid_scores_) + 1), rfecv.grid_scores_)\n",
    "plt.show()"
   ]
  },
  {
   "cell_type": "code",
   "execution_count": 307,
   "metadata": {},
   "outputs": [],
   "source": [
    "# Predicting Test Set\n",
    "y_pred = classifier1.predict(X_test)\n",
    "from sklearn.metrics import confusion_matrix, accuracy_score, f1_score, precision_score, recall_score\n",
    "acc = accuracy_score(y_test, y_pred)\n",
    "prec = precision_score(y_test, y_pred)\n",
    "rec = recall_score(y_test, y_pred)\n",
    "f1 = f1_score(y_test, y_pred)\n",
    "\n",
    "results = pd.DataFrame([['Linear Regression (Lasso)', acc, prec, rec, f1]],\n",
    "               columns = ['Model', 'Accuracy', 'Precision', 'Recall', 'F1 Score'])\n"
   ]
  },
  {
   "cell_type": "code",
   "execution_count": 308,
   "metadata": {},
   "outputs": [
    {
     "name": "stdout",
     "output_type": "stream",
     "text": [
      "                       Model  Accuracy  Precision    Recall  F1 Score\n",
      "0  Linear Regression (Lasso)  0.762857   0.767164  0.744928  0.755882\n"
     ]
    }
   ],
   "source": [
    "print(results)"
   ]
  },
  {
   "cell_type": "code",
   "execution_count": 309,
   "metadata": {},
   "outputs": [
    {
     "name": "stdout",
     "output_type": "stream",
     "text": [
      "Optimal number of features : 17\n"
     ]
    },
    {
     "data": {
      "image/png": "[encoded data removed]",
      "text/plain": [
       "<matplotlib.figure.Figure at 0x1a184f2e50>"
      ]
     },
     "metadata": {},
     "output_type": "display_data"
    }
   ],
   "source": [
    "## SVM (Linear)\n",
    "from sklearn.svm import SVC\n",
    "from sklearn.feature_selection import RFE\n",
    "classifier2 = SVC(random_state = 0, kernel = 'linear')\n",
    "classifier2.fit(X_train, y_train)\n",
    "# Create the RFE object and compute a cross-validated score.\n",
    "# The \"accuracy\" scoring is proportional to the number of correct\n",
    "# classifications\n",
    "rfecv = RFECV(estimator=classifier2, step=1, cv=StratifiedKFold(2),\n",
    "              scoring='accuracy')\n",
    "rfecv.fit(X_train, y_train)\n",
    "\n",
    "print(\"Optimal number of features : %d\" % rfecv.n_features_)\n",
    "\n",
    "# Plot number of features VS. cross-validation scores\n",
    "plt.figure()\n",
    "plt.xlabel(\"Number of features selected\")\n",
    "plt.ylabel(\"Cross validation score (nb of correct classifications)\")\n",
    "plt.plot(range(1, len(rfecv.grid_scores_) + 1), rfecv.grid_scores_)\n",
    "plt.show()"
   ]
  },
  {
   "cell_type": "code",
   "execution_count": 310,
   "metadata": {},
   "outputs": [],
   "source": [
    "# Predicting Test Set\n",
    "y_pred = classifier2.predict(X_test)\n",
    "acc = accuracy_score(y_test, y_pred)\n",
    "prec = precision_score(y_test, y_pred)\n",
    "rec = recall_score(y_test, y_pred)\n",
    "f1 = f1_score(y_test, y_pred)\n",
    "\n",
    "model_results = pd.DataFrame([['SVM (Linear)', acc, prec, rec, f1]],\n",
    "               columns = ['Model', 'Accuracy', 'Precision', 'Recall', 'F1 Score'])\n",
    "\n",
    "results = results.append(model_results, ignore_index = True)"
   ]
  },
  {
   "cell_type": "code",
   "execution_count": 311,
   "metadata": {},
   "outputs": [
    {
     "name": "stdout",
     "output_type": "stream",
     "text": [
      "                       Model  Accuracy  Precision    Recall  F1 Score\n",
      "0  Linear Regression (Lasso)  0.762857   0.767164  0.744928  0.755882\n",
      "1               SVM (Linear)  0.762857   0.767164  0.744928  0.755882\n"
     ]
    }
   ],
   "source": [
    "print(results)"
   ]
  },
  {
   "cell_type": "code",
   "execution_count": 313,
   "metadata": {},
   "outputs": [
    {
     "data": {
      "text/plain": [
       "SVC(C=1.0, cache_size=200, class_weight=None, coef0=0.0,\n",
       "  decision_function_shape='ovr', degree=3, gamma='auto', kernel='rbf',\n",
       "  max_iter=-1, probability=False, random_state=0, shrinking=True,\n",
       "  tol=0.001, verbose=False)"
      ]
     },
     "execution_count": 313,
     "metadata": {},
     "output_type": "execute_result"
    }
   ],
   "source": [
    "## SVM (rbf)\n",
    "from sklearn.svm import SVC\n",
    "classifier3 = SVC(random_state = 0, kernel = 'rbf')\n",
    "#classifier3.fit(X_train, y_train)\n",
    "classifier3.fit(X_train, y_train)\n"
   ]
  },
  {
   "cell_type": "code",
   "execution_count": 314,
   "metadata": {},
   "outputs": [],
   "source": [
    "# Predicting Test Set\n",
    "y_pred = classifier3.predict(X_test)\n",
    "acc = accuracy_score(y_test, y_pred)\n",
    "prec = precision_score(y_test, y_pred)\n",
    "rec = recall_score(y_test, y_pred)\n",
    "f1 = f1_score(y_test, y_pred)\n",
    "\n",
    "model_results = pd.DataFrame([['SVM (RBF)', acc, prec, rec, f1]],\n",
    "               columns = ['Model', 'Accuracy', 'Precision', 'Recall', 'F1 Score'])\n",
    "\n",
    "results = results.append(model_results, ignore_index = True)"
   ]
  },
  {
   "cell_type": "code",
   "execution_count": 315,
   "metadata": {},
   "outputs": [
    {
     "name": "stdout",
     "output_type": "stream",
     "text": [
      "                       Model  Accuracy  Precision    Recall  F1 Score\n",
      "0  Linear Regression (Lasso)  0.762857   0.767164  0.744928  0.755882\n",
      "1               SVM (Linear)  0.762857   0.767164  0.744928  0.755882\n",
      "2                  SVM (RBF)  0.758571   0.763473  0.739130  0.751105\n"
     ]
    }
   ],
   "source": [
    "print(results)"
   ]
  },
  {
   "cell_type": "code",
   "execution_count": 317,
   "metadata": {},
   "outputs": [
    {
     "name": "stdout",
     "output_type": "stream",
     "text": [
      "Fitting estimator with 17 features.\n",
      "Fitting estimator with 16 features.\n",
      "Fitting estimator with 15 features.\n",
      "Fitting estimator with 14 features.\n",
      "Fitting estimator with 13 features.\n",
      "Fitting estimator with 12 features.\n",
      "Fitting estimator with 11 features.\n",
      "Fitting estimator with 10 features.\n",
      "Fitting estimator with 9 features.\n",
      "Fitting estimator with 8 features.\n",
      "Fitting estimator with 7 features.\n",
      "Fitting estimator with 6 features.\n",
      "Fitting estimator with 5 features.\n",
      "Fitting estimator with 4 features.\n",
      "Fitting estimator with 3 features.\n",
      "Fitting estimator with 2 features.\n",
      "Fitting estimator with 17 features.\n",
      "Fitting estimator with 16 features.\n",
      "Fitting estimator with 15 features.\n",
      "Fitting estimator with 14 features.\n",
      "Fitting estimator with 13 features.\n",
      "Fitting estimator with 12 features.\n",
      "Fitting estimator with 11 features.\n",
      "Fitting estimator with 10 features.\n",
      "Fitting estimator with 9 features.\n",
      "Fitting estimator with 8 features.\n",
      "Fitting estimator with 7 features.\n",
      "Fitting estimator with 6 features.\n",
      "Fitting estimator with 5 features.\n",
      "Fitting estimator with 4 features.\n",
      "Fitting estimator with 3 features.\n",
      "Fitting estimator with 2 features.\n",
      "Optimal number of features : 1\n"
     ]
    },
    {
     "data": {
      "image/png": "[encoded data removed]",
      "text/plain": [
       "<matplotlib.figure.Figure at 0x109711ed0>"
      ]
     },
     "metadata": {},
     "output_type": "display_data"
    }
   ],
   "source": [
    "## Random Forest\n",
    "from sklearn.ensemble import RandomForestClassifier\n",
    "classifier4 = RandomForestClassifier(random_state = 0, n_estimators = 100,\n",
    "                                    criterion = 'entropy')\n",
    "classifier4.fit(X_train, y_train)\n",
    "from pandas import Series\n",
    "\n",
    "class RandomForestClassifierWithCoef(RandomForestClassifier):\n",
    "    def fit(self, *args, **kwargs):\n",
    "        super(RandomForestClassifierWithCoef, self).fit(*args, **kwargs)\n",
    "        self.coef_ = self.feature_importances_\n",
    "\n",
    "rf = RandomForestClassifierWithCoef(n_estimators=500, min_samples_leaf=5, n_jobs=-1)\n",
    "rfecv = RFECV(estimator=rf, step=1, cv=2, scoring='accuracy', verbose=2)\n",
    "rfecv.fit(X_train, y_train)\n",
    "\n",
    "print(\"Optimal number of features : %d\" % rfecv.n_features_)\n",
    "\n",
    "# Plot number of features VS. cross-validation scores\n",
    "plt.figure()\n",
    "plt.xlabel(\"Number of features selected\")\n",
    "plt.ylabel(\"Cross validation score (nb of correct classifications)\")\n",
    "plt.plot(range(1, len(rfecv.grid_scores_) + 1), rfecv.grid_scores_)\n",
    "plt.show()"
   ]
  },
  {
   "cell_type": "code",
   "execution_count": 320,
   "metadata": {},
   "outputs": [],
   "source": [
    "# Predicting Test Set\n",
    "y_pred = rfecv.predict(X_test)\n",
    "acc = accuracy_score(y_test, y_pred)\n",
    "prec = precision_score(y_test, y_pred)\n",
    "rec = recall_score(y_test, y_pred)\n",
    "f1 = f1_score(y_test, y_pred)\n",
    "\n",
    "model_results = pd.DataFrame([['Random Forest (n=100)', acc, prec, rec, f1]],\n",
    "               columns = ['Model', 'Accuracy', 'Precision', 'Recall', 'F1 Score'])\n",
    "\n",
    "results = results.append(model_results, ignore_index = True)"
   ]
  },
  {
   "cell_type": "code",
   "execution_count": 321,
   "metadata": {},
   "outputs": [
    {
     "name": "stdout",
     "output_type": "stream",
     "text": [
      "                       Model  Accuracy  Precision    Recall  F1 Score\n",
      "0  Linear Regression (Lasso)  0.762857   0.767164  0.744928  0.755882\n",
      "1               SVM (Linear)  0.762857   0.767164  0.744928  0.755882\n",
      "2                  SVM (RBF)  0.758571   0.763473  0.739130  0.751105\n",
      "3      Random Forest (n=100)  0.661429   0.662651  0.637681  0.649926\n",
      "4      Random Forest (n=100)  0.762857   0.767164  0.744928  0.755882\n"
     ]
    }
   ],
   "source": [
    "print(results)"
   ]
  },
  {
   "cell_type": "code",
   "execution_count": 322,
   "metadata": {},
   "outputs": [],
   "source": [
    "#Neural network\n",
    "from keras.models import Sequential\n",
    "from keras.layers import Dense\n",
    "from keras.layers import Dropout"
   ]
  },
  {
   "cell_type": "code",
   "execution_count": 323,
   "metadata": {},
   "outputs": [],
   "source": [
    "model = Sequential([\n",
    "    Dense(units=16, input_dim = 17,activation='relu'),\n",
    "    Dense(units=24,activation='relu'),\n",
    "    Dropout(0.5),\n",
    "    Dense(20,activation='relu'),\n",
    "    Dense(24,activation='relu'),\n",
    "    Dense(1,activation='sigmoid'),\n",
    "])"
   ]
  },
  {
   "cell_type": "code",
   "execution_count": 324,
   "metadata": {},
   "outputs": [
    {
     "name": "stdout",
     "output_type": "stream",
     "text": [
      "_________________________________________________________________\n",
      "Layer (type)                 Output Shape              Param #   \n",
      "=================================================================\n",
      "dense_11 (Dense)             (None, 16)                288       \n",
      "_________________________________________________________________\n",
      "dense_12 (Dense)             (None, 24)                408       \n",
      "_________________________________________________________________\n",
      "dropout_3 (Dropout)          (None, 24)                0         \n",
      "_________________________________________________________________\n",
      "dense_13 (Dense)             (None, 20)                500       \n",
      "_________________________________________________________________\n",
      "dense_14 (Dense)             (None, 24)                504       \n",
      "_________________________________________________________________\n",
      "dense_15 (Dense)             (None, 1)                 25        \n",
      "=================================================================\n",
      "Total params: 1,725\n",
      "Trainable params: 1,725\n",
      "Non-trainable params: 0\n",
      "_________________________________________________________________\n"
     ]
    }
   ],
   "source": [
    "model.summary()"
   ]
  },
  {
   "cell_type": "markdown",
   "metadata": {},
   "source": [
    "## Training"
   ]
  },
  {
   "cell_type": "code",
   "execution_count": 325,
   "metadata": {},
   "outputs": [
    {
     "name": "stdout",
     "output_type": "stream",
     "text": [
      "Epoch 1/5\n",
      "2796/2796 [==============================] - 1s 300us/step - loss: 0.6738 - acc: 0.5962\n",
      "Epoch 2/5\n",
      "2796/2796 [==============================] - 0s 100us/step - loss: 0.6002 - acc: 0.7042\n",
      "Epoch 3/5\n",
      "2796/2796 [==============================] - 0s 81us/step - loss: 0.5907 - acc: 0.7264\n",
      "Epoch 4/5\n",
      "2796/2796 [==============================] - 0s 86us/step - loss: 0.5698 - acc: 0.7493\n",
      "Epoch 5/5\n",
      "2796/2796 [==============================] - 0s 97us/step - loss: 0.5645 - acc: 0.7496\n"
     ]
    },
    {
     "data": {
      "text/plain": [
       "<keras.callbacks.History at 0x1a27d94050>"
      ]
     },
     "execution_count": 325,
     "metadata": {},
     "output_type": "execute_result"
    }
   ],
   "source": [
    "model.compile(optimizer='adam',loss='binary_crossentropy',metrics=['accuracy'])\n",
    "model.fit(X_train,y_train,batch_size=15,epochs=5)"
   ]
  },
  {
   "cell_type": "code",
   "execution_count": 326,
   "metadata": {},
   "outputs": [
    {
     "name": "stdout",
     "output_type": "stream",
     "text": [
      "700/700 [==============================] - 0s 144us/step\n"
     ]
    }
   ],
   "source": [
    "score = model.evaluate(X_test, y_test)"
   ]
  },
  {
   "cell_type": "code",
   "execution_count": 327,
   "metadata": {},
   "outputs": [
    {
     "name": "stdout",
     "output_type": "stream",
     "text": [
      "[0.5560635764258248, 0.7614285707473755]\n"
     ]
    }
   ],
   "source": [
    "print(score)"
   ]
  },
  {
   "cell_type": "code",
   "execution_count": 330,
   "metadata": {},
   "outputs": [
    {
     "name": "stdout",
     "output_type": "stream",
     "text": [
      "Best Classifier Accuracy: 0.76 (+/- 0.05)\n"
     ]
    }
   ],
   "source": [
    "\n",
    "## K-fold Cross Validation with best model\n",
    "from sklearn.model_selection import cross_val_score\n",
    "accuracies = cross_val_score(estimator = classifier1, X= X_train, y = y_train,\n",
    "                             cv = 10)\n",
    "print(\"Best Classifier Accuracy: %0.2f (+/- %0.2f)\"  % (accuracies.mean(), accuracies.std() * 2))\n",
    "\n"
   ]
  },
  {
   "cell_type": "code",
   "execution_count": 331,
   "metadata": {},
   "outputs": [
    {
     "name": "stdout",
     "output_type": "stream",
     "text": [
      "Test Data Accuracy: 0.7629\n"
     ]
    },
    {
     "data": {
      "image/png": "[encoded data removed]",
      "text/plain": [
       "<matplotlib.figure.Figure at 0x1a27ce92d0>"
      ]
     },
     "metadata": {},
     "output_type": "display_data"
    }
   ],
   "source": [
    "## Confusion Matrix with best model\n",
    "cm = confusion_matrix(y_test, y_pred) # rows = truth, cols = prediction\n",
    "df_cm = pd.DataFrame(cm, index = (0, 1), columns = (0, 1))\n",
    "plt.figure(figsize = (10,7))\n",
    "sn.set(font_scale=1.4)\n",
    "sn.heatmap(df_cm, annot=True, fmt='g')\n",
    "print(\"Test Data Accuracy: %0.4f\" % accuracy_score(y_test, y_pred))\n",
    "\n"
   ]
  },
  {
   "cell_type": "code",
   "execution_count": null,
   "metadata": {},
   "outputs": [],
   "source": []
  }
 ],
 "metadata": {
  "kernelspec": {
   "display_name": "Python 2",
   "language": "python",
   "name": "python2"
  },
  "language_info": {
   "codemirror_mode": {
    "name": "ipython",
    "version": 2
   },
   "file_extension": ".py",
   "mimetype": "text/x-python",
   "name": "python",
   "nbconvert_exporter": "python",
   "pygments_lexer": "ipython2",
   "version": "2.7.14"
  }
 },
 "nbformat": 4,
 "nbformat_minor": 2
}
