{
 "cells": [
  {
   "cell_type": "code",
   "execution_count": 1,
   "metadata": {},
   "outputs": [],
   "source": [
    "import pandas as pd\n",
    "#import numpy as np\n",
    "import matplotlib.pyplot as plt\n",
    "import seaborn as sn\n",
    "import random\n",
    "import time\n",
    "import numpy as np\n",
    "\n",
    "#random.seed(100)"
   ]
  },
  {
   "cell_type": "code",
   "execution_count": 2,
   "metadata": {},
   "outputs": [],
   "source": [
    "### Data Preprocessing ###\n",
    "\n",
    "dataset = pd.read_csv('/Users/swagataashwani/Desktop/MachineLearningTemplate/Eye_Surgery_Case_study/new_eye.csv')\n"
   ]
  },
  {
   "cell_type": "code",
   "execution_count": 3,
   "metadata": {},
   "outputs": [
    {
     "data": {
      "text/plain": [
       "Index([u'patient_insurance', u'patient_sex', u'success', u'surgeon_id',\n",
       "       u'over_under_correction', u'treatment', u'initial_severity', u'age'],\n",
       "      dtype='object')"
      ]
     },
     "execution_count": 3,
     "metadata": {},
     "output_type": "execute_result"
    }
   ],
   "source": [
    "dataset.head()\n",
    "dataset.isna().any()\n",
    "dataset['patient_sex'] = dataset['patient_sex'].astype(int)\n",
    "dataset.columns"
   ]
  },
  {
   "cell_type": "code",
   "execution_count": 4,
   "metadata": {},
   "outputs": [],
   "source": [
    "# One Hot Encoding\n",
    "\n",
    "dataset['surgeon_id']= dataset['surgeon_id'].astype(str)\n",
    "#dataset = pd.get_dummies(dataset['surgeon_id'], sparse=True, drop_first=True)\n",
    "# Removing extra columns\n",
    "response = dataset[\"treatment\"]\n",
    "dataset = dataset.drop(columns = [ 'treatment'])\n",
    "dataset = pd.get_dummies(dataset)"
   ]
  },
  {
   "cell_type": "code",
   "execution_count": 5,
   "metadata": {},
   "outputs": [
    {
     "data": {
      "text/html": [
       "<div>\n",
       "<style scoped>\n",
       "    .dataframe tbody tr th:only-of-type {\n",
       "        vertical-align: middle;\n",
       "    }\n",
       "\n",
       "    .dataframe tbody tr th {\n",
       "        vertical-align: top;\n",
       "    }\n",
       "\n",
       "    .dataframe thead th {\n",
       "        text-align: right;\n",
       "    }\n",
       "</style>\n",
       "<table border=\"1\" class=\"dataframe\">\n",
       "  <thead>\n",
       "    <tr style=\"text-align: right;\">\n",
       "      <th></th>\n",
       "      <th>patient_sex</th>\n",
       "      <th>success</th>\n",
       "      <th>initial_severity</th>\n",
       "      <th>age</th>\n",
       "      <th>patient_insurance_A</th>\n",
       "      <th>patient_insurance_B</th>\n",
       "      <th>patient_insurance_C</th>\n",
       "      <th>patient_insurance_D</th>\n",
       "      <th>patient_insurance_E</th>\n",
       "      <th>patient_insurance_F</th>\n",
       "      <th>...</th>\n",
       "      <th>surgeon_id_41</th>\n",
       "      <th>surgeon_id_43</th>\n",
       "      <th>surgeon_id_5</th>\n",
       "      <th>surgeon_id_6</th>\n",
       "      <th>surgeon_id_7</th>\n",
       "      <th>surgeon_id_8</th>\n",
       "      <th>surgeon_id_9</th>\n",
       "      <th>over_under_correction_0</th>\n",
       "      <th>over_under_correction_OVER</th>\n",
       "      <th>over_under_correction_UNDER</th>\n",
       "    </tr>\n",
       "  </thead>\n",
       "  <tbody>\n",
       "    <tr>\n",
       "      <th>0</th>\n",
       "      <td>1</td>\n",
       "      <td>1</td>\n",
       "      <td>1</td>\n",
       "      <td>50</td>\n",
       "      <td>0</td>\n",
       "      <td>0</td>\n",
       "      <td>0</td>\n",
       "      <td>1</td>\n",
       "      <td>0</td>\n",
       "      <td>0</td>\n",
       "      <td>...</td>\n",
       "      <td>0</td>\n",
       "      <td>0</td>\n",
       "      <td>0</td>\n",
       "      <td>0</td>\n",
       "      <td>0</td>\n",
       "      <td>0</td>\n",
       "      <td>0</td>\n",
       "      <td>1</td>\n",
       "      <td>0</td>\n",
       "      <td>0</td>\n",
       "    </tr>\n",
       "    <tr>\n",
       "      <th>1</th>\n",
       "      <td>1</td>\n",
       "      <td>1</td>\n",
       "      <td>1</td>\n",
       "      <td>21</td>\n",
       "      <td>0</td>\n",
       "      <td>0</td>\n",
       "      <td>0</td>\n",
       "      <td>0</td>\n",
       "      <td>0</td>\n",
       "      <td>0</td>\n",
       "      <td>...</td>\n",
       "      <td>0</td>\n",
       "      <td>0</td>\n",
       "      <td>0</td>\n",
       "      <td>0</td>\n",
       "      <td>0</td>\n",
       "      <td>0</td>\n",
       "      <td>0</td>\n",
       "      <td>1</td>\n",
       "      <td>0</td>\n",
       "      <td>0</td>\n",
       "    </tr>\n",
       "    <tr>\n",
       "      <th>2</th>\n",
       "      <td>1</td>\n",
       "      <td>1</td>\n",
       "      <td>1</td>\n",
       "      <td>45</td>\n",
       "      <td>1</td>\n",
       "      <td>0</td>\n",
       "      <td>0</td>\n",
       "      <td>0</td>\n",
       "      <td>0</td>\n",
       "      <td>0</td>\n",
       "      <td>...</td>\n",
       "      <td>0</td>\n",
       "      <td>0</td>\n",
       "      <td>0</td>\n",
       "      <td>0</td>\n",
       "      <td>0</td>\n",
       "      <td>1</td>\n",
       "      <td>0</td>\n",
       "      <td>1</td>\n",
       "      <td>0</td>\n",
       "      <td>0</td>\n",
       "    </tr>\n",
       "    <tr>\n",
       "      <th>3</th>\n",
       "      <td>1</td>\n",
       "      <td>1</td>\n",
       "      <td>1</td>\n",
       "      <td>37</td>\n",
       "      <td>0</td>\n",
       "      <td>0</td>\n",
       "      <td>0</td>\n",
       "      <td>1</td>\n",
       "      <td>0</td>\n",
       "      <td>0</td>\n",
       "      <td>...</td>\n",
       "      <td>0</td>\n",
       "      <td>0</td>\n",
       "      <td>0</td>\n",
       "      <td>0</td>\n",
       "      <td>0</td>\n",
       "      <td>1</td>\n",
       "      <td>0</td>\n",
       "      <td>1</td>\n",
       "      <td>0</td>\n",
       "      <td>0</td>\n",
       "    </tr>\n",
       "    <tr>\n",
       "      <th>4</th>\n",
       "      <td>1</td>\n",
       "      <td>1</td>\n",
       "      <td>0</td>\n",
       "      <td>49</td>\n",
       "      <td>0</td>\n",
       "      <td>1</td>\n",
       "      <td>0</td>\n",
       "      <td>0</td>\n",
       "      <td>0</td>\n",
       "      <td>0</td>\n",
       "      <td>...</td>\n",
       "      <td>0</td>\n",
       "      <td>0</td>\n",
       "      <td>0</td>\n",
       "      <td>0</td>\n",
       "      <td>0</td>\n",
       "      <td>0</td>\n",
       "      <td>1</td>\n",
       "      <td>1</td>\n",
       "      <td>0</td>\n",
       "      <td>0</td>\n",
       "    </tr>\n",
       "  </tbody>\n",
       "</table>\n",
       "<p>5 rows × 45 columns</p>\n",
       "</div>"
      ],
      "text/plain": [
       "   patient_sex  success  initial_severity  age  patient_insurance_A  \\\n",
       "0            1        1                 1   50                    0   \n",
       "1            1        1                 1   21                    0   \n",
       "2            1        1                 1   45                    1   \n",
       "3            1        1                 1   37                    0   \n",
       "4            1        1                 0   49                    0   \n",
       "\n",
       "   patient_insurance_B  patient_insurance_C  patient_insurance_D  \\\n",
       "0                    0                    0                    1   \n",
       "1                    0                    0                    0   \n",
       "2                    0                    0                    0   \n",
       "3                    0                    0                    1   \n",
       "4                    1                    0                    0   \n",
       "\n",
       "   patient_insurance_E  patient_insurance_F             ...               \\\n",
       "0                    0                    0             ...                \n",
       "1                    0                    0             ...                \n",
       "2                    0                    0             ...                \n",
       "3                    0                    0             ...                \n",
       "4                    0                    0             ...                \n",
       "\n",
       "   surgeon_id_41  surgeon_id_43  surgeon_id_5  surgeon_id_6  surgeon_id_7  \\\n",
       "0              0              0             0             0             0   \n",
       "1              0              0             0             0             0   \n",
       "2              0              0             0             0             0   \n",
       "3              0              0             0             0             0   \n",
       "4              0              0             0             0             0   \n",
       "\n",
       "   surgeon_id_8  surgeon_id_9  over_under_correction_0  \\\n",
       "0             0             0                        1   \n",
       "1             0             0                        1   \n",
       "2             1             0                        1   \n",
       "3             1             0                        1   \n",
       "4             0             1                        1   \n",
       "\n",
       "   over_under_correction_OVER  over_under_correction_UNDER  \n",
       "0                           0                            0  \n",
       "1                           0                            0  \n",
       "2                           0                            0  \n",
       "3                           0                            0  \n",
       "4                           0                            0  \n",
       "\n",
       "[5 rows x 45 columns]"
      ]
     },
     "execution_count": 5,
     "metadata": {},
     "output_type": "execute_result"
    }
   ],
   "source": [
    "dataset.head()"
   ]
  },
  {
   "cell_type": "code",
   "execution_count": 6,
   "metadata": {},
   "outputs": [],
   "source": [
    "# Splitting into Train and Test Set\n",
    "from sklearn.model_selection import train_test_split\n",
    "X_train, X_test, y_train, y_test = train_test_split(dataset,\n",
    "                                                    response,\n",
    "                                                    test_size = 0.20,\n",
    "                                                    random_state = 0)\n"
   ]
  },
  {
   "cell_type": "code",
   "execution_count": 7,
   "metadata": {},
   "outputs": [],
   "source": [
    "# Feature Scaling\n",
    "from sklearn.preprocessing import StandardScaler\n",
    "sc_X = StandardScaler()\n",
    "X_train2 = pd.DataFrame(sc_X.fit_transform(X_train))\n",
    "X_test2 = pd.DataFrame(sc_X.transform(X_test))\n",
    "X_train2.columns = X_train.columns.values\n",
    "X_test2.columns = X_test.columns.values\n",
    "X_train2.index = X_train.index.values\n",
    "X_test2.index = X_test.index.values\n",
    "X_train = X_train2\n",
    "X_test = X_test2"
   ]
  },
  {
   "cell_type": "code",
   "execution_count": 8,
   "metadata": {},
   "outputs": [
    {
     "data": {
      "text/html": [
       "<div>\n",
       "<style scoped>\n",
       "    .dataframe tbody tr th:only-of-type {\n",
       "        vertical-align: middle;\n",
       "    }\n",
       "\n",
       "    .dataframe tbody tr th {\n",
       "        vertical-align: top;\n",
       "    }\n",
       "\n",
       "    .dataframe thead th {\n",
       "        text-align: right;\n",
       "    }\n",
       "</style>\n",
       "<table border=\"1\" class=\"dataframe\">\n",
       "  <thead>\n",
       "    <tr style=\"text-align: right;\">\n",
       "      <th></th>\n",
       "      <th>patient_sex</th>\n",
       "      <th>success</th>\n",
       "      <th>initial_severity</th>\n",
       "      <th>age</th>\n",
       "      <th>patient_insurance_A</th>\n",
       "      <th>patient_insurance_B</th>\n",
       "      <th>patient_insurance_C</th>\n",
       "      <th>patient_insurance_D</th>\n",
       "      <th>patient_insurance_E</th>\n",
       "      <th>patient_insurance_F</th>\n",
       "      <th>...</th>\n",
       "      <th>surgeon_id_41</th>\n",
       "      <th>surgeon_id_43</th>\n",
       "      <th>surgeon_id_5</th>\n",
       "      <th>surgeon_id_6</th>\n",
       "      <th>surgeon_id_7</th>\n",
       "      <th>surgeon_id_8</th>\n",
       "      <th>surgeon_id_9</th>\n",
       "      <th>over_under_correction_0</th>\n",
       "      <th>over_under_correction_OVER</th>\n",
       "      <th>over_under_correction_UNDER</th>\n",
       "    </tr>\n",
       "  </thead>\n",
       "  <tbody>\n",
       "    <tr>\n",
       "      <th>436</th>\n",
       "      <td>0.819908</td>\n",
       "      <td>0.489807</td>\n",
       "      <td>0.985795</td>\n",
       "      <td>0.008449</td>\n",
       "      <td>-0.329612</td>\n",
       "      <td>-0.330278</td>\n",
       "      <td>-0.342791</td>\n",
       "      <td>-0.327608</td>\n",
       "      <td>-0.334921</td>\n",
       "      <td>-0.328276</td>\n",
       "      <td>...</td>\n",
       "      <td>-0.026755</td>\n",
       "      <td>-0.075864</td>\n",
       "      <td>-0.255231</td>\n",
       "      <td>-0.454679</td>\n",
       "      <td>-0.11095</td>\n",
       "      <td>-0.247185</td>\n",
       "      <td>-0.163734</td>\n",
       "      <td>0.489807</td>\n",
       "      <td>-0.161416</td>\n",
       "      <td>-0.449515</td>\n",
       "    </tr>\n",
       "    <tr>\n",
       "      <th>951</th>\n",
       "      <td>0.819908</td>\n",
       "      <td>0.489807</td>\n",
       "      <td>-1.014410</td>\n",
       "      <td>0.611608</td>\n",
       "      <td>-0.329612</td>\n",
       "      <td>-0.330278</td>\n",
       "      <td>-0.342791</td>\n",
       "      <td>-0.327608</td>\n",
       "      <td>-0.334921</td>\n",
       "      <td>-0.328276</td>\n",
       "      <td>...</td>\n",
       "      <td>-0.026755</td>\n",
       "      <td>-0.075864</td>\n",
       "      <td>-0.255231</td>\n",
       "      <td>-0.454679</td>\n",
       "      <td>-0.11095</td>\n",
       "      <td>-0.247185</td>\n",
       "      <td>-0.163734</td>\n",
       "      <td>0.489807</td>\n",
       "      <td>-0.161416</td>\n",
       "      <td>-0.449515</td>\n",
       "    </tr>\n",
       "    <tr>\n",
       "      <th>2288</th>\n",
       "      <td>0.819908</td>\n",
       "      <td>-2.041619</td>\n",
       "      <td>0.985795</td>\n",
       "      <td>0.410555</td>\n",
       "      <td>-0.329612</td>\n",
       "      <td>-0.330278</td>\n",
       "      <td>-0.342791</td>\n",
       "      <td>-0.327608</td>\n",
       "      <td>-0.334921</td>\n",
       "      <td>-0.328276</td>\n",
       "      <td>...</td>\n",
       "      <td>-0.026755</td>\n",
       "      <td>-0.075864</td>\n",
       "      <td>-0.255231</td>\n",
       "      <td>-0.454679</td>\n",
       "      <td>-0.11095</td>\n",
       "      <td>-0.247185</td>\n",
       "      <td>-0.163734</td>\n",
       "      <td>-2.041619</td>\n",
       "      <td>-0.161416</td>\n",
       "      <td>2.224620</td>\n",
       "    </tr>\n",
       "    <tr>\n",
       "      <th>489</th>\n",
       "      <td>-1.219649</td>\n",
       "      <td>0.489807</td>\n",
       "      <td>0.985795</td>\n",
       "      <td>0.008449</td>\n",
       "      <td>-0.329612</td>\n",
       "      <td>-0.330278</td>\n",
       "      <td>-0.342791</td>\n",
       "      <td>3.052432</td>\n",
       "      <td>-0.334921</td>\n",
       "      <td>-0.328276</td>\n",
       "      <td>...</td>\n",
       "      <td>-0.026755</td>\n",
       "      <td>-0.075864</td>\n",
       "      <td>-0.255231</td>\n",
       "      <td>-0.454679</td>\n",
       "      <td>-0.11095</td>\n",
       "      <td>-0.247185</td>\n",
       "      <td>-0.163734</td>\n",
       "      <td>0.489807</td>\n",
       "      <td>-0.161416</td>\n",
       "      <td>-0.449515</td>\n",
       "    </tr>\n",
       "    <tr>\n",
       "      <th>775</th>\n",
       "      <td>-1.219649</td>\n",
       "      <td>0.489807</td>\n",
       "      <td>0.985795</td>\n",
       "      <td>0.310028</td>\n",
       "      <td>-0.329612</td>\n",
       "      <td>-0.330278</td>\n",
       "      <td>-0.342791</td>\n",
       "      <td>-0.327608</td>\n",
       "      <td>-0.334921</td>\n",
       "      <td>3.046213</td>\n",
       "      <td>...</td>\n",
       "      <td>-0.026755</td>\n",
       "      <td>-0.075864</td>\n",
       "      <td>-0.255231</td>\n",
       "      <td>2.199355</td>\n",
       "      <td>-0.11095</td>\n",
       "      <td>-0.247185</td>\n",
       "      <td>-0.163734</td>\n",
       "      <td>0.489807</td>\n",
       "      <td>-0.161416</td>\n",
       "      <td>-0.449515</td>\n",
       "    </tr>\n",
       "  </tbody>\n",
       "</table>\n",
       "<p>5 rows × 45 columns</p>\n",
       "</div>"
      ],
      "text/plain": [
       "      patient_sex   success  initial_severity       age  patient_insurance_A  \\\n",
       "436      0.819908  0.489807          0.985795  0.008449            -0.329612   \n",
       "951      0.819908  0.489807         -1.014410  0.611608            -0.329612   \n",
       "2288     0.819908 -2.041619          0.985795  0.410555            -0.329612   \n",
       "489     -1.219649  0.489807          0.985795  0.008449            -0.329612   \n",
       "775     -1.219649  0.489807          0.985795  0.310028            -0.329612   \n",
       "\n",
       "      patient_insurance_B  patient_insurance_C  patient_insurance_D  \\\n",
       "436             -0.330278            -0.342791            -0.327608   \n",
       "951             -0.330278            -0.342791            -0.327608   \n",
       "2288            -0.330278            -0.342791            -0.327608   \n",
       "489             -0.330278            -0.342791             3.052432   \n",
       "775             -0.330278            -0.342791            -0.327608   \n",
       "\n",
       "      patient_insurance_E  patient_insurance_F             ...               \\\n",
       "436             -0.334921            -0.328276             ...                \n",
       "951             -0.334921            -0.328276             ...                \n",
       "2288            -0.334921            -0.328276             ...                \n",
       "489             -0.334921            -0.328276             ...                \n",
       "775             -0.334921             3.046213             ...                \n",
       "\n",
       "      surgeon_id_41  surgeon_id_43  surgeon_id_5  surgeon_id_6  surgeon_id_7  \\\n",
       "436       -0.026755      -0.075864     -0.255231     -0.454679      -0.11095   \n",
       "951       -0.026755      -0.075864     -0.255231     -0.454679      -0.11095   \n",
       "2288      -0.026755      -0.075864     -0.255231     -0.454679      -0.11095   \n",
       "489       -0.026755      -0.075864     -0.255231     -0.454679      -0.11095   \n",
       "775       -0.026755      -0.075864     -0.255231      2.199355      -0.11095   \n",
       "\n",
       "      surgeon_id_8  surgeon_id_9  over_under_correction_0  \\\n",
       "436      -0.247185     -0.163734                 0.489807   \n",
       "951      -0.247185     -0.163734                 0.489807   \n",
       "2288     -0.247185     -0.163734                -2.041619   \n",
       "489      -0.247185     -0.163734                 0.489807   \n",
       "775      -0.247185     -0.163734                 0.489807   \n",
       "\n",
       "      over_under_correction_OVER  over_under_correction_UNDER  \n",
       "436                    -0.161416                    -0.449515  \n",
       "951                    -0.161416                    -0.449515  \n",
       "2288                   -0.161416                     2.224620  \n",
       "489                    -0.161416                    -0.449515  \n",
       "775                    -0.161416                    -0.449515  \n",
       "\n",
       "[5 rows x 45 columns]"
      ]
     },
     "execution_count": 8,
     "metadata": {},
     "output_type": "execute_result"
    }
   ],
   "source": [
    "X_test.head()"
   ]
  },
  {
   "cell_type": "code",
   "execution_count": 9,
   "metadata": {},
   "outputs": [],
   "source": [
    "#### Model Building ####\n",
    "import matplotlib.pyplot as plt\n",
    "from sklearn.svm import SVC\n",
    "from sklearn.model_selection import StratifiedKFold\n",
    "from sklearn.feature_selection import RFECV\n",
    "### Comparing Models\n",
    "\n"
   ]
  },
  {
   "cell_type": "code",
   "execution_count": 10,
   "metadata": {},
   "outputs": [
    {
     "name": "stdout",
     "output_type": "stream",
     "text": [
      "Optimal number of features : 23\n"
     ]
    },
    {
     "data": {
      "image/png": "[encoded data removed]",
      "text/plain": [
       "<matplotlib.figure.Figure at 0x1156dfc50>"
      ]
     },
     "metadata": {},
     "output_type": "display_data"
    }
   ],
   "source": [
    "## Logistic Regression\n",
    "from sklearn.linear_model import LogisticRegression\n",
    "classifier1 = LogisticRegression(random_state = 0, penalty = 'l2')\n",
    "classifier1.fit(X_train, y_train)\n",
    "\n",
    "# Create the RFE object and compute a cross-validated score.\n",
    "# The \"accuracy\" scoring is proportional to the number of correct\n",
    "# classifications\n",
    "rfecv = RFECV(estimator=classifier1, step=1, cv=StratifiedKFold(10),\n",
    "              scoring='accuracy')\n",
    "rfecv.fit(X_train, y_train)\n",
    "\n",
    "print(\"Optimal number of features : %d\" % rfecv.n_features_)\n",
    "\n",
    "# Plot number of features VS. cross-validation scores\n",
    "plt.figure()\n",
    "plt.xlabel(\"Number of features selected\")\n",
    "plt.ylabel(\"Cross validation score (nb of correct classifications)\")\n",
    "plt.plot(range(1, len(rfecv.grid_scores_) + 1), rfecv.grid_scores_)\n",
    "plt.show()\n",
    "\n",
    "#Check information ratio , stepwise regression(before spliting train test, first try without any standarddization , try normalization)"
   ]
  },
  {
   "cell_type": "code",
   "execution_count": 11,
   "metadata": {},
   "outputs": [
    {
     "name": "stdout",
     "output_type": "stream",
     "text": [
      "[0.76108176 0.76108176 0.76286876 0.76287132 0.76215575 0.76143636\n",
      " 0.76108304 0.7617986  0.76215447 0.76251162 0.76251162 0.76287004\n",
      " 0.76287004 0.76322846 0.76322846 0.76322846 0.76322846 0.76358689\n",
      " 0.76358689 0.76322846 0.76322846 0.76358689 0.76430118 0.76394276\n",
      " 0.76358433 0.76358433 0.76322719 0.76322719 0.76287005 0.76287005\n",
      " 0.76287005 0.76358434 0.7632272  0.76251035 0.76251035 0.76251035\n",
      " 0.76251035 0.76215321 0.76215321 0.76215321 0.76215321 0.76215321\n",
      " 0.76215321 0.76215321 0.76215321]\n"
     ]
    }
   ],
   "source": [
    "print(rfecv.grid_scores_)"
   ]
  },
  {
   "cell_type": "code",
   "execution_count": 12,
   "metadata": {},
   "outputs": [],
   "source": [
    "# Predicting Test Set\n",
    "y_pred = classifier1.predict(X_test)\n",
    "from sklearn.metrics import confusion_matrix, accuracy_score, f1_score, precision_score, recall_score\n",
    "acc = accuracy_score(y_test, y_pred)\n",
    "prec = precision_score(y_test, y_pred)\n",
    "rec = recall_score(y_test, y_pred)\n",
    "f1 = f1_score(y_test, y_pred)\n",
    "\n",
    "results = pd.DataFrame([['Linear Regression (Lasso)', acc, prec, rec, f1]],\n",
    "               columns = ['Model', 'Accuracy', 'Precision', 'Recall', 'F1 Score'])\n"
   ]
  },
  {
   "cell_type": "code",
   "execution_count": 13,
   "metadata": {},
   "outputs": [
    {
     "name": "stdout",
     "output_type": "stream",
     "text": [
      "                       Model  Accuracy  Precision    Recall  F1 Score\n",
      "0  Linear Regression (Lasso)  0.757143   0.770898  0.721739  0.745509\n"
     ]
    }
   ],
   "source": [
    "print(results)"
   ]
  },
  {
   "cell_type": "code",
   "execution_count": 14,
   "metadata": {},
   "outputs": [
    {
     "name": "stdout",
     "output_type": "stream",
     "text": [
      "Optimal number of features : 1\n"
     ]
    },
    {
     "data": {
      "image/png": "[encoded data removed]",
      "text/plain": [
       "<matplotlib.figure.Figure at 0x1156dfdd0>"
      ]
     },
     "metadata": {},
     "output_type": "display_data"
    }
   ],
   "source": [
    "## SVM (Linear)\n",
    "from sklearn.svm import SVC\n",
    "from sklearn.feature_selection import RFE\n",
    "classifier2 = SVC(random_state = 0, kernel = 'linear')\n",
    "classifier2.fit(X_train, y_train)\n",
    "# Create the RFE object and compute a cross-validated score.\n",
    "# The \"accuracy\" scoring is proportional to the number of correct\n",
    "# classifications\n",
    "rfecv = RFECV(estimator=classifier2, step=1, cv=StratifiedKFold(2),\n",
    "              scoring='accuracy')\n",
    "rfecv.fit(X_train, y_train)\n",
    "\n",
    "print(\"Optimal number of features : %d\" % rfecv.n_features_)\n",
    "\n",
    "# Plot number of features VS. cross-validation scores\n",
    "plt.figure()\n",
    "plt.xlabel(\"Number of features selected\")\n",
    "plt.ylabel(\"Cross validation score (nb of correct classifications)\")\n",
    "plt.plot(range(1, len(rfecv.grid_scores_) + 1), rfecv.grid_scores_)\n",
    "plt.show()"
   ]
  },
  {
   "cell_type": "code",
   "execution_count": 15,
   "metadata": {},
   "outputs": [],
   "source": [
    "# Predicting Test Set\n",
    "y_pred = classifier2.predict(X_test)\n",
    "acc = accuracy_score(y_test, y_pred)\n",
    "prec = precision_score(y_test, y_pred)\n",
    "rec = recall_score(y_test, y_pred)\n",
    "f1 = f1_score(y_test, y_pred)\n",
    "\n",
    "model_results = pd.DataFrame([['SVM (Linear)', acc, prec, rec, f1]],\n",
    "               columns = ['Model', 'Accuracy', 'Precision', 'Recall', 'F1 Score'])\n",
    "\n",
    "results = results.append(model_results, ignore_index = True)"
   ]
  },
  {
   "cell_type": "code",
   "execution_count": 16,
   "metadata": {},
   "outputs": [
    {
     "name": "stdout",
     "output_type": "stream",
     "text": [
      "                       Model  Accuracy  Precision    Recall  F1 Score\n",
      "0  Linear Regression (Lasso)  0.757143   0.770898  0.721739  0.745509\n",
      "1               SVM (Linear)  0.762857   0.767164  0.744928  0.755882\n"
     ]
    }
   ],
   "source": [
    "print(results)"
   ]
  },
  {
   "cell_type": "code",
   "execution_count": 17,
   "metadata": {},
   "outputs": [
    {
     "data": {
      "text/plain": [
       "SVC(C=1.0, cache_size=200, class_weight=None, coef0=0.0,\n",
       "  decision_function_shape='ovr', degree=3, gamma='auto', kernel='rbf',\n",
       "  max_iter=-1, probability=False, random_state=0, shrinking=True,\n",
       "  tol=0.001, verbose=False)"
      ]
     },
     "execution_count": 17,
     "metadata": {},
     "output_type": "execute_result"
    }
   ],
   "source": [
    "## SVM (rbf)\n",
    "from sklearn.svm import SVC\n",
    "classifier3 = SVC(random_state = 0, kernel = 'rbf')\n",
    "#classifier3.fit(X_train, y_train)\n",
    "classifier3.fit(X_train, y_train)\n"
   ]
  },
  {
   "cell_type": "code",
   "execution_count": 18,
   "metadata": {},
   "outputs": [],
   "source": [
    "# Predicting Test Set\n",
    "y_pred = classifier3.predict(X_test)\n",
    "acc = accuracy_score(y_test, y_pred)\n",
    "prec = precision_score(y_test, y_pred)\n",
    "rec = recall_score(y_test, y_pred)\n",
    "f1 = f1_score(y_test, y_pred)\n",
    "\n",
    "model_results = pd.DataFrame([['SVM (RBF)', acc, prec, rec, f1]],\n",
    "               columns = ['Model', 'Accuracy', 'Precision', 'Recall', 'F1 Score'])\n",
    "\n",
    "results = results.append(model_results, ignore_index = True)"
   ]
  },
  {
   "cell_type": "code",
   "execution_count": 19,
   "metadata": {},
   "outputs": [
    {
     "name": "stdout",
     "output_type": "stream",
     "text": [
      "                       Model  Accuracy  Precision    Recall  F1 Score\n",
      "0  Linear Regression (Lasso)  0.757143   0.770898  0.721739  0.745509\n",
      "1               SVM (Linear)  0.762857   0.767164  0.744928  0.755882\n",
      "2                  SVM (RBF)  0.748571   0.750742  0.733333  0.741935\n"
     ]
    }
   ],
   "source": [
    "print(results)"
   ]
  },
  {
   "cell_type": "code",
   "execution_count": 20,
   "metadata": {},
   "outputs": [
    {
     "name": "stdout",
     "output_type": "stream",
     "text": [
      "Fitting estimator with 45 features.\n",
      "Fitting estimator with 44 features.\n",
      "Fitting estimator with 43 features.\n",
      "Fitting estimator with 42 features.\n",
      "Fitting estimator with 41 features.\n",
      "Fitting estimator with 40 features.\n",
      "Fitting estimator with 39 features.\n",
      "Fitting estimator with 38 features.\n",
      "Fitting estimator with 37 features.\n",
      "Fitting estimator with 36 features.\n",
      "Fitting estimator with 35 features.\n",
      "Fitting estimator with 34 features.\n",
      "Fitting estimator with 33 features.\n",
      "Fitting estimator with 32 features.\n",
      "Fitting estimator with 31 features.\n",
      "Fitting estimator with 30 features.\n",
      "Fitting estimator with 29 features.\n",
      "Fitting estimator with 28 features.\n",
      "Fitting estimator with 27 features.\n",
      "Fitting estimator with 26 features.\n",
      "Fitting estimator with 25 features.\n",
      "Fitting estimator with 24 features.\n",
      "Fitting estimator with 23 features.\n",
      "Fitting estimator with 22 features.\n",
      "Fitting estimator with 21 features.\n",
      "Fitting estimator with 20 features.\n",
      "Fitting estimator with 19 features.\n",
      "Fitting estimator with 18 features.\n",
      "Fitting estimator with 17 features.\n",
      "Fitting estimator with 16 features.\n",
      "Fitting estimator with 15 features.\n",
      "Fitting estimator with 14 features.\n",
      "Fitting estimator with 13 features.\n",
      "Fitting estimator with 12 features.\n",
      "Fitting estimator with 11 features.\n",
      "Fitting estimator with 10 features.\n",
      "Fitting estimator with 9 features.\n",
      "Fitting estimator with 8 features.\n",
      "Fitting estimator with 7 features.\n",
      "Fitting estimator with 6 features.\n",
      "Fitting estimator with 5 features.\n",
      "Fitting estimator with 4 features.\n",
      "Fitting estimator with 3 features.\n",
      "Fitting estimator with 2 features.\n",
      "Fitting estimator with 45 features.\n",
      "Fitting estimator with 44 features.\n",
      "Fitting estimator with 43 features.\n",
      "Fitting estimator with 42 features.\n",
      "Fitting estimator with 41 features.\n",
      "Fitting estimator with 40 features.\n",
      "Fitting estimator with 39 features.\n",
      "Fitting estimator with 38 features.\n",
      "Fitting estimator with 37 features.\n",
      "Fitting estimator with 36 features.\n",
      "Fitting estimator with 35 features.\n",
      "Fitting estimator with 34 features.\n",
      "Fitting estimator with 33 features.\n",
      "Fitting estimator with 32 features.\n",
      "Fitting estimator with 31 features.\n",
      "Fitting estimator with 30 features.\n",
      "Fitting estimator with 29 features.\n",
      "Fitting estimator with 28 features.\n",
      "Fitting estimator with 27 features.\n",
      "Fitting estimator with 26 features.\n",
      "Fitting estimator with 25 features.\n",
      "Fitting estimator with 24 features.\n",
      "Fitting estimator with 23 features.\n",
      "Fitting estimator with 22 features.\n",
      "Fitting estimator with 21 features.\n",
      "Fitting estimator with 20 features.\n",
      "Fitting estimator with 19 features.\n",
      "Fitting estimator with 18 features.\n",
      "Fitting estimator with 17 features.\n",
      "Fitting estimator with 16 features.\n",
      "Fitting estimator with 15 features.\n",
      "Fitting estimator with 14 features.\n",
      "Fitting estimator with 13 features.\n",
      "Fitting estimator with 12 features.\n",
      "Fitting estimator with 11 features.\n",
      "Fitting estimator with 10 features.\n",
      "Fitting estimator with 9 features.\n",
      "Fitting estimator with 8 features.\n",
      "Fitting estimator with 7 features.\n",
      "Fitting estimator with 6 features.\n",
      "Fitting estimator with 5 features.\n",
      "Fitting estimator with 4 features.\n",
      "Fitting estimator with 3 features.\n",
      "Fitting estimator with 2 features.\n",
      "Optimal number of features : 30\n"
     ]
    },
    {
     "data": {
      "image/png": "[encoded data removed]",
      "text/plain": [
       "<matplotlib.figure.Figure at 0x114cee690>"
      ]
     },
     "metadata": {},
     "output_type": "display_data"
    }
   ],
   "source": [
    "## Random Forest\n",
    "from sklearn.ensemble import RandomForestClassifier\n",
    "classifier4 = RandomForestClassifier(random_state = 0, n_estimators = 100,\n",
    "                                    criterion = 'entropy')\n",
    "classifier4.fit(X_train, y_train)\n",
    "from pandas import Series\n",
    "\n",
    "class RandomForestClassifierWithCoef(RandomForestClassifier):\n",
    "    def fit(self, *args, **kwargs):\n",
    "        super(RandomForestClassifierWithCoef, self).fit(*args, **kwargs)\n",
    "        self.coef_ = self.feature_importances_\n",
    "\n",
    "rf = RandomForestClassifierWithCoef(n_estimators=500, min_samples_leaf=5, n_jobs=-1)\n",
    "rfecv = RFECV(estimator=rf, step=1, cv=2, scoring='accuracy', verbose=2)\n",
    "rfecv.fit(X_train, y_train)\n",
    "\n",
    "print(\"Optimal number of features : %d\" % rfecv.n_features_)\n",
    "\n",
    "# Plot number of features VS. cross-validation scores\n",
    "plt.figure()\n",
    "plt.xlabel(\"Number of features selected\")\n",
    "plt.ylabel(\"Cross validation score (nb of correct classifications)\")\n",
    "plt.plot(range(1, len(rfecv.grid_scores_) + 1), rfecv.grid_scores_)\n",
    "plt.show()"
   ]
  },
  {
   "cell_type": "code",
   "execution_count": 21,
   "metadata": {},
   "outputs": [],
   "source": [
    "# Predicting Test Set\n",
    "y_pred = rfecv.predict(X_test)\n",
    "acc = accuracy_score(y_test, y_pred)\n",
    "prec = precision_score(y_test, y_pred)\n",
    "rec = recall_score(y_test, y_pred)\n",
    "f1 = f1_score(y_test, y_pred)\n",
    "\n",
    "model_results = pd.DataFrame([['Random Forest (n=100)', acc, prec, rec, f1]],\n",
    "               columns = ['Model', 'Accuracy', 'Precision', 'Recall', 'F1 Score'])\n",
    "\n",
    "results = results.append(model_results, ignore_index = True)"
   ]
  },
  {
   "cell_type": "code",
   "execution_count": 22,
   "metadata": {},
   "outputs": [
    {
     "name": "stdout",
     "output_type": "stream",
     "text": [
      "                       Model  Accuracy  Precision    Recall  F1 Score\n",
      "0  Linear Regression (Lasso)  0.757143   0.770898  0.721739  0.745509\n",
      "1               SVM (Linear)  0.762857   0.767164  0.744928  0.755882\n",
      "2                  SVM (RBF)  0.748571   0.750742  0.733333  0.741935\n",
      "3      Random Forest (n=100)  0.761429   0.781646  0.715942  0.747352\n"
     ]
    }
   ],
   "source": [
    "print(results)"
   ]
  },
  {
   "cell_type": "code",
   "execution_count": 23,
   "metadata": {},
   "outputs": [
    {
     "name": "stderr",
     "output_type": "stream",
     "text": [
      "/anaconda2/lib/python2.7/site-packages/h5py/__init__.py:36: FutureWarning: Conversion of the second argument of issubdtype from `float` to `np.floating` is deprecated. In future, it will be treated as `np.float64 == np.dtype(float).type`.\n",
      "  from ._conv import register_converters as _register_converters\n",
      "Using TensorFlow backend.\n"
     ]
    }
   ],
   "source": [
    "#Neural network\n",
    "from keras.models import Sequential\n",
    "from keras.layers import Dense\n",
    "from keras.layers import Dropout"
   ]
  },
  {
   "cell_type": "code",
   "execution_count": 24,
   "metadata": {},
   "outputs": [],
   "source": [
    "model = Sequential([\n",
    "    Dense(units=16, input_dim = 45,activation='relu'),\n",
    "    Dense(units=24,activation='relu'),\n",
    "    Dropout(0.5),\n",
    "    Dense(20,activation='relu'),\n",
    "    Dense(24,activation='relu'),\n",
    "    Dense(1,activation='sigmoid'),\n",
    "])"
   ]
  },
  {
   "cell_type": "code",
   "execution_count": 25,
   "metadata": {},
   "outputs": [
    {
     "name": "stdout",
     "output_type": "stream",
     "text": [
      "_________________________________________________________________\n",
      "Layer (type)                 Output Shape              Param #   \n",
      "=================================================================\n",
      "dense_1 (Dense)              (None, 16)                736       \n",
      "_________________________________________________________________\n",
      "dense_2 (Dense)              (None, 24)                408       \n",
      "_________________________________________________________________\n",
      "dropout_1 (Dropout)          (None, 24)                0         \n",
      "_________________________________________________________________\n",
      "dense_3 (Dense)              (None, 20)                500       \n",
      "_________________________________________________________________\n",
      "dense_4 (Dense)              (None, 24)                504       \n",
      "_________________________________________________________________\n",
      "dense_5 (Dense)              (None, 1)                 25        \n",
      "=================================================================\n",
      "Total params: 2,173\n",
      "Trainable params: 2,173\n",
      "Non-trainable params: 0\n",
      "_________________________________________________________________\n"
     ]
    }
   ],
   "source": [
    "model.summary()"
   ]
  },
  {
   "cell_type": "markdown",
   "metadata": {},
   "source": [
    "## Training"
   ]
  },
  {
   "cell_type": "code",
   "execution_count": 26,
   "metadata": {},
   "outputs": [
    {
     "name": "stdout",
     "output_type": "stream",
     "text": [
      "Epoch 1/5\n",
      "2796/2796 [==============================] - 1s 244us/step - loss: 0.6939 - acc: 0.5408\n",
      "Epoch 2/5\n",
      "2796/2796 [==============================] - 1s 205us/step - loss: 0.6652 - acc: 0.6059\n",
      "Epoch 3/5\n",
      "2796/2796 [==============================] - 0s 126us/step - loss: 0.6348 - acc: 0.6592\n",
      "Epoch 4/5\n",
      "2796/2796 [==============================] - 0s 128us/step - loss: 0.6089 - acc: 0.6928 0s - loss: 0.5923 - acc: 0.701 - ETA: 0s - loss: 0.6040 - acc: 0\n",
      "Epoch 5/5\n",
      "2796/2796 [==============================] - 0s 126us/step - loss: 0.5773 - acc: 0.7242\n"
     ]
    },
    {
     "data": {
      "text/plain": [
       "<keras.callbacks.History at 0x1104ce550>"
      ]
     },
     "execution_count": 26,
     "metadata": {},
     "output_type": "execute_result"
    }
   ],
   "source": [
    "model.compile(optimizer='adam',loss='binary_crossentropy',metrics=['accuracy'])\n",
    "model.fit(X_train,y_train,batch_size=15,epochs=5)"
   ]
  },
  {
   "cell_type": "code",
   "execution_count": 27,
   "metadata": {},
   "outputs": [
    {
     "name": "stdout",
     "output_type": "stream",
     "text": [
      "700/700 [==============================] - 0s 84us/step\n"
     ]
    }
   ],
   "source": [
    "score = model.evaluate(X_test, y_test)"
   ]
  },
  {
   "cell_type": "code",
   "execution_count": 28,
   "metadata": {},
   "outputs": [
    {
     "name": "stdout",
     "output_type": "stream",
     "text": [
      "[0.5767038079670498, 0.7285714292526245]\n"
     ]
    }
   ],
   "source": [
    "print(score)"
   ]
  },
  {
   "cell_type": "code",
   "execution_count": 29,
   "metadata": {},
   "outputs": [
    {
     "name": "stdout",
     "output_type": "stream",
     "text": [
      "Best Classifier Accuracy: 0.76 (+/- 0.04)\n"
     ]
    }
   ],
   "source": [
    "\n",
    "## K-fold Cross Validation with best model\n",
    "from sklearn.model_selection import cross_val_score\n",
    "accuracies = cross_val_score(estimator = classifier1, X= X_train, y = y_train,\n",
    "                             cv = 10)\n",
    "print(\"Best Classifier Accuracy: %0.2f (+/- %0.2f)\"  % (accuracies.mean(), accuracies.std() * 2))\n",
    "\n"
   ]
  },
  {
   "cell_type": "code",
   "execution_count": 30,
   "metadata": {},
   "outputs": [
    {
     "name": "stdout",
     "output_type": "stream",
     "text": [
      "Test Data Accuracy: 0.7614\n"
     ]
    },
    {
     "data": {
      "image/png": "[encoded data removed]",
      "text/plain": [
       "<matplotlib.figure.Figure at 0x1a2e09a690>"
      ]
     },
     "metadata": {},
     "output_type": "display_data"
    }
   ],
   "source": [
    "## Confusion Matrix with best model\n",
    "cm = confusion_matrix(y_test, y_pred) # rows = truth, cols = prediction\n",
    "df_cm = pd.DataFrame(cm, index = (0, 1), columns = (0, 1))\n",
    "plt.figure(figsize = (10,7))\n",
    "sn.set(font_scale=1.4)\n",
    "sn.heatmap(df_cm, annot=True, fmt='g')\n",
    "print(\"Test Data Accuracy: %0.4f\" % accuracy_score(y_test, y_pred))\n",
    "\n"
   ]
  },
  {
   "cell_type": "code",
   "execution_count": null,
   "metadata": {},
   "outputs": [],
   "source": [
    "#try hyperparameter tuning, feature engineering - stepwise regression , try - add surgeon_id with one hot encoding\n",
    "from sklearn.model_selection import GridSearchCV\n",
    "dual=[True,False]\n",
    "max_iter=[100,110,120,130,140]\n",
    "C = [1.0,1.5,2.0,2.5]\n",
    "param_grid = dict(dual=dual,max_iter=max_iter,C=C)\n",
    "lr = LogisticRegression(penalty='l2')\n",
    "grid = GridSearchCV(estimator=lr, param_grid=param_grid, cv = 3, n_jobs=-1)\n",
    "\n",
    "start_time = time.time()\n",
    "grid_result = grid.fit(X_train, y_train)\n",
    "# Summarize results\n",
    "print(\"Best: %f using %s\" % (grid_result.best_score_, grid_result.best_params_))\n",
    "print(\"Execution time: \" + str((time.time() - start_time)) + ' ms')"
   ]
  },
  {
   "cell_type": "code",
   "execution_count": 32,
   "metadata": {},
   "outputs": [
    {
     "name": "stdout",
     "output_type": "stream",
     "text": [
      "0.7113863287250384\n"
     ]
    }
   ],
   "source": [
    "#Decision trees\n",
    "from sklearn import model_selection\n",
    "from sklearn.ensemble import BaggingClassifier\n",
    "from sklearn.tree import DecisionTreeClassifier\n",
    "\n",
    "kfold = model_selection.KFold(n_splits=10)\n",
    "cart = DecisionTreeClassifier()\n",
    "num_trees = 100\n",
    "model = BaggingClassifier(base_estimator=cart, n_estimators=num_trees)\n",
    "results = model_selection.cross_val_score(model, X_train, y_train, cv=kfold)\n",
    "print(results.mean())"
   ]
  },
  {
   "cell_type": "code",
   "execution_count": 34,
   "metadata": {},
   "outputs": [
    {
     "name": "stdout",
     "output_type": "stream",
     "text": [
      "0.759310035842294\n"
     ]
    }
   ],
   "source": [
    "#Adaboost\n",
    "from sklearn.ensemble import AdaBoostClassifier\n",
    "num_trees = 30\n",
    "kfold = model_selection.KFold(n_splits=10)\n",
    "model = AdaBoostClassifier(n_estimators=num_trees)\n",
    "results = model_selection.cross_val_score(model, X_train, y_train, cv=kfold)\n",
    "print(results.mean())"
   ]
  },
  {
   "cell_type": "code",
   "execution_count": 35,
   "metadata": {},
   "outputs": [
    {
     "name": "stdout",
     "output_type": "stream",
     "text": [
      "0.7600217613927291\n"
     ]
    }
   ],
   "source": [
    "#Stochastic GD\n",
    "from sklearn.ensemble import GradientBoostingClassifier\n",
    "\n",
    "num_trees = 100\n",
    "kfold = model_selection.KFold(n_splits=10)\n",
    "model = GradientBoostingClassifier(n_estimators=num_trees)\n",
    "results = model_selection.cross_val_score(model, X_train, y_train, cv=kfold)\n",
    "print(results.mean())"
   ]
  },
  {
   "cell_type": "code",
   "execution_count": 36,
   "metadata": {},
   "outputs": [
    {
     "name": "stderr",
     "output_type": "stream",
     "text": [
      "/anaconda2/lib/python2.7/site-packages/sklearn/preprocessing/label.py:151: DeprecationWarning: The truth value of an empty array is ambiguous. Returning False, but in future this will result in an error. Use `array.size > 0` to check that an array is not empty.\n",
      "  if diff:\n",
      "/anaconda2/lib/python2.7/site-packages/sklearn/preprocessing/label.py:151: DeprecationWarning: The truth value of an empty array is ambiguous. Returning False, but in future this will result in an error. Use `array.size > 0` to check that an array is not empty.\n",
      "  if diff:\n",
      "/anaconda2/lib/python2.7/site-packages/sklearn/preprocessing/label.py:151: DeprecationWarning: The truth value of an empty array is ambiguous. Returning False, but in future this will result in an error. Use `array.size > 0` to check that an array is not empty.\n",
      "  if diff:\n",
      "/anaconda2/lib/python2.7/site-packages/sklearn/preprocessing/label.py:151: DeprecationWarning: The truth value of an empty array is ambiguous. Returning False, but in future this will result in an error. Use `array.size > 0` to check that an array is not empty.\n",
      "  if diff:\n",
      "/anaconda2/lib/python2.7/site-packages/sklearn/preprocessing/label.py:151: DeprecationWarning: The truth value of an empty array is ambiguous. Returning False, but in future this will result in an error. Use `array.size > 0` to check that an array is not empty.\n",
      "  if diff:\n",
      "/anaconda2/lib/python2.7/site-packages/sklearn/preprocessing/label.py:151: DeprecationWarning: The truth value of an empty array is ambiguous. Returning False, but in future this will result in an error. Use `array.size > 0` to check that an array is not empty.\n",
      "  if diff:\n",
      "/anaconda2/lib/python2.7/site-packages/sklearn/preprocessing/label.py:151: DeprecationWarning: The truth value of an empty array is ambiguous. Returning False, but in future this will result in an error. Use `array.size > 0` to check that an array is not empty.\n",
      "  if diff:\n",
      "/anaconda2/lib/python2.7/site-packages/sklearn/preprocessing/label.py:151: DeprecationWarning: The truth value of an empty array is ambiguous. Returning False, but in future this will result in an error. Use `array.size > 0` to check that an array is not empty.\n",
      "  if diff:\n",
      "/anaconda2/lib/python2.7/site-packages/sklearn/preprocessing/label.py:151: DeprecationWarning: The truth value of an empty array is ambiguous. Returning False, but in future this will result in an error. Use `array.size > 0` to check that an array is not empty.\n",
      "  if diff:\n"
     ]
    },
    {
     "name": "stdout",
     "output_type": "stream",
     "text": [
      "0.7575217613927292\n"
     ]
    },
    {
     "name": "stderr",
     "output_type": "stream",
     "text": [
      "/anaconda2/lib/python2.7/site-packages/sklearn/preprocessing/label.py:151: DeprecationWarning: The truth value of an empty array is ambiguous. Returning False, but in future this will result in an error. Use `array.size > 0` to check that an array is not empty.\n",
      "  if diff:\n"
     ]
    }
   ],
   "source": [
    "#ensemble\n",
    "from sklearn import model_selection\n",
    "from sklearn.linear_model import LogisticRegression\n",
    "from sklearn.tree import DecisionTreeClassifier\n",
    "from sklearn.svm import SVC\n",
    "from sklearn.ensemble import VotingClassifier\n",
    "kfold = model_selection.KFold(n_splits=10)\n",
    "# create the sub models\n",
    "estimators = []\n",
    "model1 = LogisticRegression()\n",
    "estimators.append(('logistic', model1))\n",
    "model2 = DecisionTreeClassifier()\n",
    "estimators.append(('cart', model2))\n",
    "model3 = SVC()\n",
    "estimators.append(('svm', model3))\n",
    "# create the ensemble model\n",
    "ensemble = VotingClassifier(estimators)\n",
    "results = model_selection.cross_val_score(ensemble, X_train, y_train, cv=kfold)\n",
    "print(results.mean())"
   ]
  },
  {
   "cell_type": "code",
   "execution_count": 37,
   "metadata": {},
   "outputs": [
    {
     "data": {
      "text/html": [
       "<table class=\"simpletable\">\n",
       "<caption>OLS Regression Results</caption>\n",
       "<tr>\n",
       "  <th>Dep. Variable:</th>        <td>treatment</td>    <th>  R-squared:         </th> <td>   0.157</td>\n",
       "</tr>\n",
       "<tr>\n",
       "  <th>Model:</th>                   <td>OLS</td>       <th>  Adj. R-squared:    </th> <td>   0.144</td>\n",
       "</tr>\n",
       "<tr>\n",
       "  <th>Method:</th>             <td>Least Squares</td>  <th>  F-statistic:       </th> <td>   12.80</td>\n",
       "</tr>\n",
       "<tr>\n",
       "  <th>Date:</th>             <td>Sun, 29 Mar 2020</td> <th>  Prob (F-statistic):</th> <td>2.36e-75</td>\n",
       "</tr>\n",
       "<tr>\n",
       "  <th>Time:</th>                 <td>04:24:33</td>     <th>  Log-Likelihood:    </th> <td> -2764.1</td>\n",
       "</tr>\n",
       "<tr>\n",
       "  <th>No. Observations:</th>      <td>  2796</td>      <th>  AIC:               </th> <td>   5608.</td>\n",
       "</tr>\n",
       "<tr>\n",
       "  <th>Df Residuals:</th>          <td>  2756</td>      <th>  BIC:               </th> <td>   5846.</td>\n",
       "</tr>\n",
       "<tr>\n",
       "  <th>Df Model:</th>              <td>    40</td>      <th>                     </th>     <td> </td>   \n",
       "</tr>\n",
       "<tr>\n",
       "  <th>Covariance Type:</th>      <td>nonrobust</td>    <th>                     </th>     <td> </td>   \n",
       "</tr>\n",
       "</table>\n",
       "<table class=\"simpletable\">\n",
       "<tr>\n",
       "               <td></td>                  <th>coef</th>     <th>std err</th>      <th>t</th>      <th>P>|t|</th>  <th>[0.025</th>    <th>0.975]</th>  \n",
       "</tr>\n",
       "<tr>\n",
       "  <th>patient_sex</th>                 <td>    0.0045</td> <td>    0.013</td> <td>    0.359</td> <td> 0.719</td> <td>   -0.020</td> <td>    0.029</td>\n",
       "</tr>\n",
       "<tr>\n",
       "  <th>success</th>                     <td>    0.0063</td> <td>    0.004</td> <td>    1.434</td> <td> 0.152</td> <td>   -0.002</td> <td>    0.015</td>\n",
       "</tr>\n",
       "<tr>\n",
       "  <th>initial_severity</th>            <td>   -0.2591</td> <td>    0.013</td> <td>  -20.146</td> <td> 0.000</td> <td>   -0.284</td> <td>   -0.234</td>\n",
       "</tr>\n",
       "<tr>\n",
       "  <th>age</th>                         <td>    0.0038</td> <td>    0.013</td> <td>    0.300</td> <td> 0.765</td> <td>   -0.021</td> <td>    0.028</td>\n",
       "</tr>\n",
       "<tr>\n",
       "  <th>patient_insurance_A</th>         <td>   -0.0222</td> <td>    0.011</td> <td>   -1.981</td> <td> 0.048</td> <td>   -0.044</td> <td>   -0.000</td>\n",
       "</tr>\n",
       "<tr>\n",
       "  <th>patient_insurance_B</th>         <td>   -0.0130</td> <td>    0.011</td> <td>   -1.162</td> <td> 0.245</td> <td>   -0.035</td> <td>    0.009</td>\n",
       "</tr>\n",
       "<tr>\n",
       "  <th>patient_insurance_C</th>         <td>    0.0112</td> <td>    0.011</td> <td>    0.995</td> <td> 0.320</td> <td>   -0.011</td> <td>    0.033</td>\n",
       "</tr>\n",
       "<tr>\n",
       "  <th>patient_insurance_D</th>         <td>    0.0012</td> <td>    0.011</td> <td>    0.110</td> <td> 0.912</td> <td>   -0.021</td> <td>    0.023</td>\n",
       "</tr>\n",
       "<tr>\n",
       "  <th>patient_insurance_E</th>         <td>    0.0020</td> <td>    0.011</td> <td>    0.181</td> <td> 0.856</td> <td>   -0.020</td> <td>    0.024</td>\n",
       "</tr>\n",
       "<tr>\n",
       "  <th>patient_insurance_F</th>         <td>    0.0042</td> <td>    0.011</td> <td>    0.372</td> <td> 0.710</td> <td>   -0.018</td> <td>    0.026</td>\n",
       "</tr>\n",
       "<tr>\n",
       "  <th>patient_insurance_G</th>         <td>    0.0045</td> <td>    0.011</td> <td>    0.401</td> <td> 0.688</td> <td>   -0.017</td> <td>    0.026</td>\n",
       "</tr>\n",
       "<tr>\n",
       "  <th>patient_insurance_H</th>         <td>   -0.0075</td> <td>    0.011</td> <td>   -0.666</td> <td> 0.506</td> <td>   -0.030</td> <td>    0.015</td>\n",
       "</tr>\n",
       "<tr>\n",
       "  <th>patient_insurance_I</th>         <td>    0.0140</td> <td>    0.011</td> <td>    1.258</td> <td> 0.209</td> <td>   -0.008</td> <td>    0.036</td>\n",
       "</tr>\n",
       "<tr>\n",
       "  <th>patient_insurance_J</th>         <td>    0.0046</td> <td>    0.011</td> <td>    0.406</td> <td> 0.685</td> <td>   -0.017</td> <td>    0.027</td>\n",
       "</tr>\n",
       "<tr>\n",
       "  <th>surgeon_id_0</th>                <td> 2.826e-18</td> <td> 8.63e-18</td> <td>    0.328</td> <td> 0.743</td> <td>-1.41e-17</td> <td> 1.97e-17</td>\n",
       "</tr>\n",
       "<tr>\n",
       "  <th>surgeon_id_10</th>               <td>    0.0043</td> <td>    0.012</td> <td>    0.371</td> <td> 0.711</td> <td>   -0.018</td> <td>    0.027</td>\n",
       "</tr>\n",
       "<tr>\n",
       "  <th>surgeon_id_11</th>               <td>   -0.0003</td> <td>    0.012</td> <td>   -0.022</td> <td> 0.983</td> <td>   -0.024</td> <td>    0.024</td>\n",
       "</tr>\n",
       "<tr>\n",
       "  <th>surgeon_id_12</th>               <td>   -0.0068</td> <td>    0.012</td> <td>   -0.556</td> <td> 0.578</td> <td>   -0.031</td> <td>    0.017</td>\n",
       "</tr>\n",
       "<tr>\n",
       "  <th>surgeon_id_13</th>               <td>   -0.0022</td> <td>    0.012</td> <td>   -0.186</td> <td> 0.853</td> <td>   -0.025</td> <td>    0.021</td>\n",
       "</tr>\n",
       "<tr>\n",
       "  <th>surgeon_id_16</th>               <td>   -0.0089</td> <td>    0.012</td> <td>   -0.734</td> <td> 0.463</td> <td>   -0.033</td> <td>    0.015</td>\n",
       "</tr>\n",
       "<tr>\n",
       "  <th>surgeon_id_17</th>               <td>    0.0152</td> <td>    0.012</td> <td>    1.298</td> <td> 0.195</td> <td>   -0.008</td> <td>    0.038</td>\n",
       "</tr>\n",
       "<tr>\n",
       "  <th>surgeon_id_18</th>               <td>    0.0135</td> <td>    0.012</td> <td>    1.143</td> <td> 0.253</td> <td>   -0.010</td> <td>    0.037</td>\n",
       "</tr>\n",
       "<tr>\n",
       "  <th>surgeon_id_19</th>               <td>    0.0045</td> <td>    0.012</td> <td>    0.377</td> <td> 0.706</td> <td>   -0.019</td> <td>    0.028</td>\n",
       "</tr>\n",
       "<tr>\n",
       "  <th>surgeon_id_2</th>                <td>    0.0001</td> <td>    0.012</td> <td>    0.010</td> <td> 0.992</td> <td>   -0.024</td> <td>    0.024</td>\n",
       "</tr>\n",
       "<tr>\n",
       "  <th>surgeon_id_20</th>               <td>   -0.0060</td> <td>    0.012</td> <td>   -0.511</td> <td> 0.609</td> <td>   -0.029</td> <td>    0.017</td>\n",
       "</tr>\n",
       "<tr>\n",
       "  <th>surgeon_id_21</th>               <td>   -0.0024</td> <td>    0.012</td> <td>   -0.197</td> <td> 0.844</td> <td>   -0.026</td> <td>    0.022</td>\n",
       "</tr>\n",
       "<tr>\n",
       "  <th>surgeon_id_22</th>               <td>   -0.0010</td> <td>    0.012</td> <td>   -0.083</td> <td> 0.934</td> <td>   -0.025</td> <td>    0.023</td>\n",
       "</tr>\n",
       "<tr>\n",
       "  <th>surgeon_id_24</th>               <td>    0.0034</td> <td>    0.012</td> <td>    0.272</td> <td> 0.786</td> <td>   -0.021</td> <td>    0.028</td>\n",
       "</tr>\n",
       "<tr>\n",
       "  <th>surgeon_id_25</th>               <td>    0.0181</td> <td>    0.012</td> <td>    1.528</td> <td> 0.127</td> <td>   -0.005</td> <td>    0.041</td>\n",
       "</tr>\n",
       "<tr>\n",
       "  <th>surgeon_id_28</th>               <td>    0.0048</td> <td>    0.012</td> <td>    0.391</td> <td> 0.696</td> <td>   -0.019</td> <td>    0.029</td>\n",
       "</tr>\n",
       "<tr>\n",
       "  <th>surgeon_id_3</th>                <td>    0.0174</td> <td>    0.012</td> <td>    1.438</td> <td> 0.151</td> <td>   -0.006</td> <td>    0.041</td>\n",
       "</tr>\n",
       "<tr>\n",
       "  <th>surgeon_id_30</th>               <td>    0.0133</td> <td>    0.012</td> <td>    1.123</td> <td> 0.262</td> <td>   -0.010</td> <td>    0.036</td>\n",
       "</tr>\n",
       "<tr>\n",
       "  <th>surgeon_id_31</th>               <td>    0.0099</td> <td>    0.012</td> <td>    0.809</td> <td> 0.419</td> <td>   -0.014</td> <td>    0.034</td>\n",
       "</tr>\n",
       "<tr>\n",
       "  <th>surgeon_id_32</th>               <td>    0.0133</td> <td>    0.012</td> <td>    1.131</td> <td> 0.258</td> <td>   -0.010</td> <td>    0.036</td>\n",
       "</tr>\n",
       "<tr>\n",
       "  <th>surgeon_id_4</th>                <td>    0.0065</td> <td>    0.012</td> <td>    0.541</td> <td> 0.589</td> <td>   -0.017</td> <td>    0.030</td>\n",
       "</tr>\n",
       "<tr>\n",
       "  <th>surgeon_id_41</th>               <td>   -0.0061</td> <td>    0.012</td> <td>   -0.489</td> <td> 0.625</td> <td>   -0.030</td> <td>    0.018</td>\n",
       "</tr>\n",
       "<tr>\n",
       "  <th>surgeon_id_43</th>               <td>   -0.0156</td> <td>    0.012</td> <td>   -1.261</td> <td> 0.207</td> <td>   -0.040</td> <td>    0.009</td>\n",
       "</tr>\n",
       "<tr>\n",
       "  <th>surgeon_id_5</th>                <td>    0.0263</td> <td>    0.012</td> <td>    2.252</td> <td> 0.024</td> <td>    0.003</td> <td>    0.049</td>\n",
       "</tr>\n",
       "<tr>\n",
       "  <th>surgeon_id_6</th>                <td>   -0.0670</td> <td>    0.011</td> <td>   -6.266</td> <td> 0.000</td> <td>   -0.088</td> <td>   -0.046</td>\n",
       "</tr>\n",
       "<tr>\n",
       "  <th>surgeon_id_7</th>                <td>    0.0081</td> <td>    0.012</td> <td>    0.664</td> <td> 0.507</td> <td>   -0.016</td> <td>    0.032</td>\n",
       "</tr>\n",
       "<tr>\n",
       "  <th>surgeon_id_8</th>                <td>    0.0042</td> <td>    0.012</td> <td>    0.360</td> <td> 0.719</td> <td>   -0.019</td> <td>    0.027</td>\n",
       "</tr>\n",
       "<tr>\n",
       "  <th>surgeon_id_9</th>                <td>   -0.0045</td> <td>    0.012</td> <td>   -0.376</td> <td> 0.707</td> <td>   -0.028</td> <td>    0.019</td>\n",
       "</tr>\n",
       "<tr>\n",
       "  <th>over_under_correction_0</th>     <td>    0.0063</td> <td>    0.004</td> <td>    1.434</td> <td> 0.152</td> <td>   -0.002</td> <td>    0.015</td>\n",
       "</tr>\n",
       "<tr>\n",
       "  <th>over_under_correction_OVER</th>  <td>   -0.0061</td> <td>    0.011</td> <td>   -0.530</td> <td> 0.596</td> <td>   -0.029</td> <td>    0.016</td>\n",
       "</tr>\n",
       "<tr>\n",
       "  <th>over_under_correction_UNDER</th> <td>   -0.0041</td> <td>    0.006</td> <td>   -0.685</td> <td> 0.494</td> <td>   -0.016</td> <td>    0.008</td>\n",
       "</tr>\n",
       "</table>\n",
       "<table class=\"simpletable\">\n",
       "<tr>\n",
       "  <th>Omnibus:</th>       <td>34.650</td> <th>  Durbin-Watson:     </th> <td>   0.775</td>\n",
       "</tr>\n",
       "<tr>\n",
       "  <th>Prob(Omnibus):</th> <td> 0.000</td> <th>  Jarque-Bera (JB):  </th> <td>  21.561</td>\n",
       "</tr>\n",
       "<tr>\n",
       "  <th>Skew:</th>          <td> 0.029</td> <th>  Prob(JB):          </th> <td>2.08e-05</td>\n",
       "</tr>\n",
       "<tr>\n",
       "  <th>Kurtosis:</th>      <td> 2.574</td> <th>  Cond. No.          </th> <td>4.43e+16</td>\n",
       "</tr>\n",
       "</table>"
      ],
      "text/plain": [
       "<class 'statsmodels.iolib.summary.Summary'>\n",
       "\"\"\"\n",
       "                            OLS Regression Results                            \n",
       "==============================================================================\n",
       "Dep. Variable:              treatment   R-squared:                       0.157\n",
       "Model:                            OLS   Adj. R-squared:                  0.144\n",
       "Method:                 Least Squares   F-statistic:                     12.80\n",
       "Date:                Sun, 29 Mar 2020   Prob (F-statistic):           2.36e-75\n",
       "Time:                        04:24:33   Log-Likelihood:                -2764.1\n",
       "No. Observations:                2796   AIC:                             5608.\n",
       "Df Residuals:                    2756   BIC:                             5846.\n",
       "Df Model:                          40                                         \n",
       "Covariance Type:            nonrobust                                         \n",
       "===============================================================================================\n",
       "                                  coef    std err          t      P>|t|      [0.025      0.975]\n",
       "-----------------------------------------------------------------------------------------------\n",
       "patient_sex                     0.0045      0.013      0.359      0.719      -0.020       0.029\n",
       "success                         0.0063      0.004      1.434      0.152      -0.002       0.015\n",
       "initial_severity               -0.2591      0.013    -20.146      0.000      -0.284      -0.234\n",
       "age                             0.0038      0.013      0.300      0.765      -0.021       0.028\n",
       "patient_insurance_A            -0.0222      0.011     -1.981      0.048      -0.044      -0.000\n",
       "patient_insurance_B            -0.0130      0.011     -1.162      0.245      -0.035       0.009\n",
       "patient_insurance_C             0.0112      0.011      0.995      0.320      -0.011       0.033\n",
       "patient_insurance_D             0.0012      0.011      0.110      0.912      -0.021       0.023\n",
       "patient_insurance_E             0.0020      0.011      0.181      0.856      -0.020       0.024\n",
       "patient_insurance_F             0.0042      0.011      0.372      0.710      -0.018       0.026\n",
       "patient_insurance_G             0.0045      0.011      0.401      0.688      -0.017       0.026\n",
       "patient_insurance_H            -0.0075      0.011     -0.666      0.506      -0.030       0.015\n",
       "patient_insurance_I             0.0140      0.011      1.258      0.209      -0.008       0.036\n",
       "patient_insurance_J             0.0046      0.011      0.406      0.685      -0.017       0.027\n",
       "surgeon_id_0                 2.826e-18   8.63e-18      0.328      0.743   -1.41e-17    1.97e-17\n",
       "surgeon_id_10                   0.0043      0.012      0.371      0.711      -0.018       0.027\n",
       "surgeon_id_11                  -0.0003      0.012     -0.022      0.983      -0.024       0.024\n",
       "surgeon_id_12                  -0.0068      0.012     -0.556      0.578      -0.031       0.017\n",
       "surgeon_id_13                  -0.0022      0.012     -0.186      0.853      -0.025       0.021\n",
       "surgeon_id_16                  -0.0089      0.012     -0.734      0.463      -0.033       0.015\n",
       "surgeon_id_17                   0.0152      0.012      1.298      0.195      -0.008       0.038\n",
       "surgeon_id_18                   0.0135      0.012      1.143      0.253      -0.010       0.037\n",
       "surgeon_id_19                   0.0045      0.012      0.377      0.706      -0.019       0.028\n",
       "surgeon_id_2                    0.0001      0.012      0.010      0.992      -0.024       0.024\n",
       "surgeon_id_20                  -0.0060      0.012     -0.511      0.609      -0.029       0.017\n",
       "surgeon_id_21                  -0.0024      0.012     -0.197      0.844      -0.026       0.022\n",
       "surgeon_id_22                  -0.0010      0.012     -0.083      0.934      -0.025       0.023\n",
       "surgeon_id_24                   0.0034      0.012      0.272      0.786      -0.021       0.028\n",
       "surgeon_id_25                   0.0181      0.012      1.528      0.127      -0.005       0.041\n",
       "surgeon_id_28                   0.0048      0.012      0.391      0.696      -0.019       0.029\n",
       "surgeon_id_3                    0.0174      0.012      1.438      0.151      -0.006       0.041\n",
       "surgeon_id_30                   0.0133      0.012      1.123      0.262      -0.010       0.036\n",
       "surgeon_id_31                   0.0099      0.012      0.809      0.419      -0.014       0.034\n",
       "surgeon_id_32                   0.0133      0.012      1.131      0.258      -0.010       0.036\n",
       "surgeon_id_4                    0.0065      0.012      0.541      0.589      -0.017       0.030\n",
       "surgeon_id_41                  -0.0061      0.012     -0.489      0.625      -0.030       0.018\n",
       "surgeon_id_43                  -0.0156      0.012     -1.261      0.207      -0.040       0.009\n",
       "surgeon_id_5                    0.0263      0.012      2.252      0.024       0.003       0.049\n",
       "surgeon_id_6                   -0.0670      0.011     -6.266      0.000      -0.088      -0.046\n",
       "surgeon_id_7                    0.0081      0.012      0.664      0.507      -0.016       0.032\n",
       "surgeon_id_8                    0.0042      0.012      0.360      0.719      -0.019       0.027\n",
       "surgeon_id_9                   -0.0045      0.012     -0.376      0.707      -0.028       0.019\n",
       "over_under_correction_0         0.0063      0.004      1.434      0.152      -0.002       0.015\n",
       "over_under_correction_OVER     -0.0061      0.011     -0.530      0.596      -0.029       0.016\n",
       "over_under_correction_UNDER    -0.0041      0.006     -0.685      0.494      -0.016       0.008\n",
       "==============================================================================\n",
       "Omnibus:                       34.650   Durbin-Watson:                   0.775\n",
       "Prob(Omnibus):                  0.000   Jarque-Bera (JB):               21.561\n",
       "Skew:                           0.029   Prob(JB):                     2.08e-05\n",
       "Kurtosis:                       2.574   Cond. No.                     4.43e+16\n",
       "==============================================================================\n",
       "\n",
       "Warnings:\n",
       "[1] Standard Errors assume that the covariance matrix of the errors is correctly specified.\n",
       "[2] The smallest eigenvalue is 4.4e-30. This might indicate that there are\n",
       "strong multicollinearity problems or that the design matrix is singular.\n",
       "\"\"\""
      ]
     },
     "execution_count": 37,
     "metadata": {},
     "output_type": "execute_result"
    }
   ],
   "source": [
    "#Calculating p value, stepwise regression\n",
    "\n",
    "#Only initial_severity has p-value less than 0.05\n",
    "\n",
    "import statsmodels.formula.api as sm\n",
    "X_opt = X_train.drop(columns = ['age','patient_sex','patient_insurance_J','patient_insurance_G','patient_insurance_F','patient_insurance_E','patient_insurance_C','patient_insurance_I','patient_insurance_D'])\n",
    "\"\"\"Running the OLS method on X_opt and storing results in regressor_OLS\"\"\"\n",
    "regressor_OLS = sm.OLS(endog = y_train, exog = X_train).fit()\n",
    "regressor_OLS.summary()"
   ]
  },
  {
   "cell_type": "code",
   "execution_count": 38,
   "metadata": {},
   "outputs": [
    {
     "data": {
      "text/html": [
       "<div>\n",
       "<style scoped>\n",
       "    .dataframe tbody tr th:only-of-type {\n",
       "        vertical-align: middle;\n",
       "    }\n",
       "\n",
       "    .dataframe tbody tr th {\n",
       "        vertical-align: top;\n",
       "    }\n",
       "\n",
       "    .dataframe thead th {\n",
       "        text-align: right;\n",
       "    }\n",
       "</style>\n",
       "<table border=\"1\" class=\"dataframe\">\n",
       "  <thead>\n",
       "    <tr style=\"text-align: right;\">\n",
       "      <th></th>\n",
       "      <th>0</th>\n",
       "    </tr>\n",
       "  </thead>\n",
       "  <tbody>\n",
       "    <tr>\n",
       "      <th>accuracy</th>\n",
       "      <td>0.763948</td>\n",
       "    </tr>\n",
       "    <tr>\n",
       "      <th>recall</th>\n",
       "      <td>0.747504</td>\n",
       "    </tr>\n",
       "    <tr>\n",
       "      <th>precision</th>\n",
       "      <td>0.774003</td>\n",
       "    </tr>\n",
       "    <tr>\n",
       "      <th>roc_auc_score</th>\n",
       "      <td>0.763996</td>\n",
       "    </tr>\n",
       "  </tbody>\n",
       "</table>\n",
       "</div>"
      ],
      "text/plain": [
       "                      0\n",
       "accuracy       0.763948\n",
       "recall         0.747504\n",
       "precision      0.774003\n",
       "roc_auc_score  0.763996"
      ]
     },
     "execution_count": 38,
     "metadata": {},
     "output_type": "execute_result"
    }
   ],
   "source": [
    "#changing threshold for logistic regression\n",
    "#0.5 looks like the optimum value\n",
    "from sklearn.datasets import make_classification\n",
    "from sklearn.model_selection import train_test_split\n",
    "from sklearn.linear_model import LogisticRegression\n",
    "from sklearn.metrics import accuracy_score, confusion_matrix, recall_score, roc_auc_score, precision_score\n",
    "\n",
    "X, y = make_classification(\n",
    "    n_classes=2, class_sep=1.5, weights=[0.9, 0.1],\n",
    "    n_features=20, n_samples=1000, random_state=10\n",
    ")\n",
    "\n",
    "\n",
    "clf = LogisticRegression(class_weight=\"balanced\")\n",
    "clf.fit(X_train, y_train)\n",
    "THRESHOLD = 0.45\n",
    "preds = np.where(clf.predict_proba(X_train)[:,1] > THRESHOLD, 1, 0)\n",
    "\n",
    "pd.DataFrame(data=[accuracy_score(y_train, preds), recall_score(y_train, preds),\n",
    "                   precision_score(y_train, preds), roc_auc_score(y_train, preds)], \n",
    "             index=[\"accuracy\", \"recall\", \"precision\", \"roc_auc_score\"])"
   ]
  },
  {
   "cell_type": "code",
   "execution_count": null,
   "metadata": {},
   "outputs": [],
   "source": []
  }
 ],
 "metadata": {
  "kernelspec": {
   "display_name": "Python 2",
   "language": "python",
   "name": "python2"
  },
  "language_info": {
   "codemirror_mode": {
    "name": "ipython",
    "version": 2
   },
   "file_extension": ".py",
   "mimetype": "text/x-python",
   "name": "python",
   "nbconvert_exporter": "python",
   "pygments_lexer": "ipython2",
   "version": "2.7.14"
  }
 },
 "nbformat": 4,
 "nbformat_minor": 2
}
